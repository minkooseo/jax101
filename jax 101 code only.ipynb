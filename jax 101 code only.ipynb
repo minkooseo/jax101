{
  "cells": [
    {
      "cell_type": "markdown",
      "metadata": {},
      "source": [
        "This is code only notebook of jax intro. Let's start by reducing error message size as we'll cause them for educational purposes."
      ]
    },
    {
      "cell_type": "code",
      "execution_count": 21,
      "metadata": {},
      "outputs": [
        {
          "name": "stdout",
          "output_type": "stream",
          "text": [
            "Exception reporting mode: Minimal\n"
          ]
        }
      ],
      "source": [
        "%xmode minimal"
      ]
    },
    {
      "cell_type": "markdown",
      "metadata": {
        "id": "_M-Vt2s0_5a1"
      },
      "source": [
        "# Getting started with JAX numpy\n",
        "\n",
        "https://jax.readthedocs.io/en/latest/jax-101/01-jax-basics.html"
      ]
    },
    {
      "cell_type": "code",
      "execution_count": 22,
      "metadata": {
        "colab": {
          "base_uri": "https://localhost:8080/"
        },
        "id": "qBG_JOiL_7IA",
        "outputId": "c2f51fcc-1f91-4e29-e454-c7dc99283aa1"
      },
      "outputs": [
        {
          "name": "stdout",
          "output_type": "stream",
          "text": [
            "[0 1 2 3 4 5 6 7 8 9]\n"
          ]
        }
      ],
      "source": [
        "import jax\n",
        "import jax.numpy as jnp\n",
        "\n",
        "x = jnp.arange(10)\n",
        "print(x)"
      ]
    },
    {
      "cell_type": "code",
      "execution_count": 23,
      "metadata": {
        "colab": {
          "base_uri": "https://localhost:8080/"
        },
        "id": "TkXrBVQS_9iy",
        "outputId": "6485f79e-2722-4b68-ebf5-c8471d2e06fd"
      },
      "outputs": [
        {
          "data": {
            "text/plain": [
              "Array([0, 1, 2, 3, 4, 5, 6, 7, 8, 9], dtype=int32)"
            ]
          },
          "execution_count": 23,
          "metadata": {},
          "output_type": "execute_result"
        }
      ],
      "source": [
        "x"
      ]
    },
    {
      "cell_type": "markdown",
      "metadata": {
        "id": "fRY9bHfNAgeQ"
      },
      "source": [
        "`block_until_ready` to get result immediately."
      ]
    },
    {
      "cell_type": "code",
      "execution_count": 24,
      "metadata": {
        "colab": {
          "base_uri": "https://localhost:8080/"
        },
        "id": "GjEGcumGANPQ",
        "outputId": "6adc2731-e6e8-4823-bad5-d27450ba9279"
      },
      "outputs": [
        {
          "name": "stdout",
          "output_type": "stream",
          "text": [
            "The slowest run took 8.00 times longer than the fastest. This could mean that an intermediate result is being cached.\n",
            "6.33 ms ± 2.28 ms per loop (mean ± std. dev. of 7 runs, 100 loops each)\n"
          ]
        }
      ],
      "source": [
        "long_vector = jnp.arange(int(1e7))\n",
        "%timeit jnp.dot(long_vector, long_vector).block_until_ready()"
      ]
    },
    {
      "cell_type": "markdown",
      "metadata": {
        "id": "2KOBPMp1AvaN"
      },
      "source": [
        "JAX first transformation: `grad`"
      ]
    },
    {
      "cell_type": "code",
      "execution_count": 25,
      "metadata": {
        "id": "lC1AaAtHAvKF"
      },
      "outputs": [],
      "source": [
        "def sum_of_squares(x):\n",
        "  return jnp.sum(x**2)"
      ]
    },
    {
      "cell_type": "code",
      "execution_count": 26,
      "metadata": {
        "colab": {
          "base_uri": "https://localhost:8080/"
        },
        "id": "iLFsFtLnAmkU",
        "outputId": "ae6afec3-fe2a-4842-9840-65b2f1829706"
      },
      "outputs": [
        {
          "name": "stdout",
          "output_type": "stream",
          "text": [
            "30.0\n",
            "[2. 4. 6. 8.]\n"
          ]
        }
      ],
      "source": [
        "sum_of_sqaures_dx = jax.grad(sum_of_squares)\n",
        "x = jnp.asarray([1.0, 2.0, 3.0, 4.0])\n",
        "print(sum_of_squares(x))\n",
        "print(sum_of_sqaures_dx(x))"
      ]
    },
    {
      "cell_type": "code",
      "execution_count": 27,
      "metadata": {
        "colab": {
          "base_uri": "https://localhost:8080/"
        },
        "id": "yZ1LSzl4A9EK",
        "outputId": "1e196edb-9af3-4305-b0b7-e3b00dd8c077"
      },
      "outputs": [
        {
          "name": "stdout",
          "output_type": "stream",
          "text": [
            "[-0.20000005 -0.19999981 -0.19999981 -0.19999981]\n"
          ]
        }
      ],
      "source": [
        "def sum_squared_error(x, y):\n",
        "  return jnp.sum((x-y)**2)\n",
        "\n",
        "sum_squared_error_dx = jax.grad(sum_squared_error)\n",
        "y = jnp.asarray([1.1, 2.1, 3.1, 4.1])\n",
        "print(sum_squared_error_dx(x, y))"
      ]
    },
    {
      "cell_type": "markdown",
      "metadata": {
        "id": "5lG-lysPBQXn"
      },
      "source": [
        "Find gradient with respect to a different argument (or several)"
      ]
    },
    {
      "cell_type": "code",
      "execution_count": 28,
      "metadata": {
        "colab": {
          "base_uri": "https://localhost:8080/"
        },
        "id": "sW_BMbZxBLG5",
        "outputId": "a9d0166a-2ed1-4ccc-8711-a2eb89dd7f66"
      },
      "outputs": [
        {
          "data": {
            "text/plain": [
              "(Array([-0.20000005, -0.19999981, -0.19999981, -0.19999981], dtype=float32),\n",
              " Array([0.20000005, 0.19999981, 0.19999981, 0.19999981], dtype=float32))"
            ]
          },
          "execution_count": 28,
          "metadata": {},
          "output_type": "execute_result"
        }
      ],
      "source": [
        "jax.grad(sum_squared_error, argnums=(0, 1))(x, y)"
      ]
    },
    {
      "cell_type": "markdown",
      "metadata": {
        "id": "hlgBwmx8BedY"
      },
      "source": [
        "## Value and Grad"
      ]
    },
    {
      "cell_type": "code",
      "execution_count": 29,
      "metadata": {
        "colab": {
          "base_uri": "https://localhost:8080/"
        },
        "id": "geExbdN0BXbC",
        "outputId": "f362ce4a-6014-4ae3-f41c-eb1c20e86712"
      },
      "outputs": [
        {
          "data": {
            "text/plain": [
              "(Array(0.03999995, dtype=float32),\n",
              " Array([-0.20000005, -0.19999981, -0.19999981, -0.19999981], dtype=float32))"
            ]
          },
          "execution_count": 29,
          "metadata": {},
          "output_type": "execute_result"
        }
      ],
      "source": [
        "jax.value_and_grad(sum_squared_error)(x, y)"
      ]
    },
    {
      "cell_type": "markdown",
      "metadata": {
        "id": "noNY-tuXBpqF"
      },
      "source": [
        "## Auxiliary data"
      ]
    },
    {
      "cell_type": "markdown",
      "metadata": {
        "id": "jwzhY0XiKgeD"
      },
      "source": [
        "Error due to aux data."
      ]
    },
    {
      "cell_type": "code",
      "execution_count": 32,
      "metadata": {
        "colab": {
          "base_uri": "https://localhost:8080/",
          "height": 561
        },
        "id": "A76hl0_JBiqu",
        "outputId": "f8b9b24b-34ab-41c7-f4e2-4cce6f64bb5e"
      },
      "outputs": [
        {
          "ename": "TypeError",
          "evalue": "Gradient only defined for scalar-output functions. Output was (Array(0.03999995, dtype=float32), Array([-0.10000002, -0.0999999 , -0.0999999 , -0.0999999 ], dtype=float32)).",
          "output_type": "error",
          "traceback": [
            "\u001b[0;31mTypeError\u001b[0m\u001b[0;31m:\u001b[0m Value (Array(0.03999995, dtype=float32), Array([-0.10000002, -0.0999999 , -0.0999999 , -0.0999999 ], dtype=float32)) with type <class 'tuple'> is not a valid JAX type\n",
            "\nThe above exception was the direct cause of the following exception:\n",
            "\u001b[0;31mTypeError\u001b[0m\u001b[0;31m:\u001b[0m Gradient only defined for scalar-output functions. Output was (Array(0.03999995, dtype=float32), Array([-0.10000002, -0.0999999 , -0.0999999 , -0.0999999 ], dtype=float32)).\n"
          ]
        }
      ],
      "source": [
        "def sequared_error_with_aux(x, y):\n",
        "  return sum_squared_error(x, y), x-y\n",
        "\n",
        "jax.grad(sequared_error_with_aux)(x, y)"
      ]
    },
    {
      "cell_type": "markdown",
      "metadata": {
        "id": "H98MNTejCF7I"
      },
      "source": [
        "```aux=true``` to return aux data"
      ]
    },
    {
      "cell_type": "code",
      "execution_count": 33,
      "metadata": {
        "colab": {
          "base_uri": "https://localhost:8080/"
        },
        "id": "OFiC4MQ1B6UW",
        "outputId": "75a0124f-7bfe-45f1-8ec6-6e5c6ff8b9ad"
      },
      "outputs": [
        {
          "data": {
            "text/plain": [
              "(Array([-0.20000005, -0.19999981, -0.19999981, -0.19999981], dtype=float32),\n",
              " Array([-0.10000002, -0.0999999 , -0.0999999 , -0.0999999 ], dtype=float32))"
            ]
          },
          "execution_count": 33,
          "metadata": {},
          "output_type": "execute_result"
        }
      ],
      "source": [
        "def sequared_error_with_aux(x, y):\n",
        "  return sum_squared_error(x, y), x-y\n",
        "\n",
        "jax.grad(sequared_error_with_aux, has_aux=True)(x, y)"
      ]
    },
    {
      "cell_type": "markdown",
      "metadata": {
        "id": "aT5Ufie9CMG2"
      },
      "source": [
        "## Differences from numpy"
      ]
    },
    {
      "cell_type": "markdown",
      "metadata": {
        "id": "9dVd2KwzNRWP"
      },
      "source": [
        "`jnp.array` can not be modified in-place"
      ]
    },
    {
      "cell_type": "code",
      "execution_count": 34,
      "metadata": {
        "colab": {
          "base_uri": "https://localhost:8080/"
        },
        "id": "IwZyNRm4B-H4",
        "outputId": "c7302052-5d6a-469e-f5ad-158e4b3b6286"
      },
      "outputs": [
        {
          "data": {
            "text/plain": [
              "array([123,   2,   3])"
            ]
          },
          "execution_count": 34,
          "metadata": {},
          "output_type": "execute_result"
        }
      ],
      "source": [
        "import numpy as np\n",
        "\n",
        "x = np.array([1, 2, 3])\n",
        "\n",
        "def in_place_modify(x):\n",
        "  x[0] = 123\n",
        "  return None\n",
        "\n",
        "in_place_modify(x)\n",
        "x"
      ]
    },
    {
      "cell_type": "code",
      "execution_count": 35,
      "metadata": {
        "colab": {
          "base_uri": "https://localhost:8080/",
          "height": 364
        },
        "id": "kUIRjSRqCLj9",
        "outputId": "626e5ff3-bc47-4d45-be4c-8260a45948d3"
      },
      "outputs": [
        {
          "ename": "TypeError",
          "evalue": "'<class 'jaxlib.xla_extension.ArrayImpl'>' object does not support item assignment. JAX arrays are immutable. Instead of ``x[idx] = y``, use ``x = x.at[idx].set(y)`` or another .at[] method: https://jax.readthedocs.io/en/latest/_autosummary/jax.numpy.ndarray.at.html",
          "output_type": "error",
          "traceback": [
            "\u001b[0;31mTypeError\u001b[0m\u001b[0;31m:\u001b[0m '<class 'jaxlib.xla_extension.ArrayImpl'>' object does not support item assignment. JAX arrays are immutable. Instead of ``x[idx] = y``, use ``x = x.at[idx].set(y)`` or another .at[] method: https://jax.readthedocs.io/en/latest/_autosummary/jax.numpy.ndarray.at.html\n"
          ]
        }
      ],
      "source": [
        "in_place_modify(jnp.array(x))"
      ]
    },
    {
      "cell_type": "markdown",
      "metadata": {
        "id": "My2xZqrBCn2s"
      },
      "source": [
        "Use `at` and `set` that are side effect free. `x` is not modified."
      ]
    },
    {
      "cell_type": "code",
      "execution_count": 37,
      "metadata": {
        "colab": {
          "base_uri": "https://localhost:8080/"
        },
        "id": "rEOBdpS0CXWO",
        "outputId": "96ac9701-f644-44ac-a2e9-1452307fca56"
      },
      "outputs": [
        {
          "name": "stderr",
          "output_type": "stream",
          "text": [
            "\"builtin.module\"() ({\n",
            "  \"func.func\"() ({\n",
            "  ^bb0(%arg0: tensor<3xsi32>, %arg1: tensor<1xsi32>, %arg2: tensor<si32>):\n",
            "    %0 = \"mps.scatter_nd\"(%arg0, %arg2, %arg1) {batch_dims = 0 : ui32, mode = #mps.scatter_mode<set>} : (tensor<3xsi32>, tensor<si32>, tensor<1xsi32>) -> tensor<3xsi32>\n",
            "    \"func.return\"(%0) : (tensor<3xsi32>) -> ()\n",
            "  }) {arg_attrs = [{mhlo.sharding = \"{replicated}\"}, {mhlo.sharding = \"{replicated}\"}, {mhlo.sharding = \"{replicated}\"}], function_type = (tensor<3xsi32>, tensor<1xsi32>, tensor<si32>) -> tensor<3xsi32>, res_attrs = [{}], sym_name = \"main\", sym_visibility = \"public\"} : () -> ()\n",
            "}) {mhlo.num_partitions = 1 : i32, mhlo.num_replicas = 1 : i32, sym_name = \"jit_scatter\"} : () -> ()\n"
          ]
        },
        {
          "ename": "XlaRuntimeError",
          "evalue": "UNKNOWN: /var/folders/09/9zmlsg756kxfcbx6l3tdhf600000gn/T/ipykernel_68760/2546443441.py:2:9: error: 'mps.scatter_nd' op invalid batch dimensions: 0, must be less than ranks of all input tensors\n/var/folders/09/9zmlsg756kxfcbx6l3tdhf600000gn/T/ipykernel_68760/2546443441.py:2:9: note: see current operation: %0 = \"mps.scatter_nd\"(%arg0, %arg2, %arg1) {batch_dims = 0 : ui32, mode = #mps.scatter_mode<set>} : (tensor<3xsi32>, tensor<si32>, tensor<1xsi32>) -> tensor<3xsi32>\n",
          "output_type": "error",
          "traceback": [
            "\u001b[0;31mXlaRuntimeError\u001b[0m\u001b[0;31m:\u001b[0m UNKNOWN: /var/folders/09/9zmlsg756kxfcbx6l3tdhf600000gn/T/ipykernel_68760/2546443441.py:2:9: error: 'mps.scatter_nd' op invalid batch dimensions: 0, must be less than ranks of all input tensors\n/var/folders/09/9zmlsg756kxfcbx6l3tdhf600000gn/T/ipykernel_68760/2546443441.py:2:9: note: see current operation: %0 = \"mps.scatter_nd\"(%arg0, %arg2, %arg1) {batch_dims = 0 : ui32, mode = #mps.scatter_mode<set>} : (tensor<3xsi32>, tensor<si32>, tensor<1xsi32>) -> tensor<3xsi32>\n\n"
          ]
        }
      ],
      "source": [
        "def jax_in_place_modify(x):\n",
        "  return x.at[0].set(123)\n",
        "\n",
        "x = jnp.array([1, 2, 3])\n",
        "print(jax_in_place_modify(x))\n",
        "print(x)"
      ]
    },
    {
      "cell_type": "markdown",
      "metadata": {
        "id": "RU9_8ak8C39J"
      },
      "source": [
        "## Your first JAX training loop"
      ]
    },
    {
      "cell_type": "code",
      "execution_count": 40,
      "metadata": {
        "colab": {
          "base_uri": "https://localhost:8080/",
          "height": 448
        },
        "id": "neG8hC3BCd3s",
        "outputId": "d528832a-ca79-4204-aa91-6a801c640e93"
      },
      "outputs": [
        {
          "data": {
            "text/plain": [
              "<matplotlib.collections.PathCollection at 0x149537dd0>"
            ]
          },
          "execution_count": 40,
          "metadata": {},
          "output_type": "execute_result"
        },
        {
          "data": {
            "image/png": "[encoded data removed]",
            "text/plain": [
              "<Figure size 640x480 with 1 Axes>"
            ]
          },
          "metadata": {},
          "output_type": "display_data"
        }
      ],
      "source": [
        "import numpy as np\n",
        "import matplotlib.pyplot as plt\n",
        "\n",
        "xs = np.random.normal(size=(100,))\n",
        "noise = np.random.normal(scale=0.1, size=(100,))\n",
        "ys = xs * 3 - 1 + noise\n",
        "plt.scatter(xs, ys)"
      ]
    },
    {
      "cell_type": "code",
      "execution_count": 41,
      "metadata": {
        "id": "6b28bomWDEBu"
      },
      "outputs": [],
      "source": [
        "def model(theta, x):\n",
        "  w, b = theta\n",
        "  return w * x + b\n",
        "\n",
        "def loss_fn(theta, x, y):\n",
        "  prediction = model(theta, x)\n",
        "  return jnp.mean((prediction-y)**2)\n",
        "\n",
        "def update(theta, x, y, lr=0.1):\n",
        "  return theta - lr * jax.grad(loss_fn)(theta, x, y)"
      ]
    },
    {
      "cell_type": "code",
      "execution_count": 42,
      "metadata": {
        "colab": {
          "base_uri": "https://localhost:8080/",
          "height": 448
        },
        "id": "WSshlRUIDb5K",
        "outputId": "675ed44d-12fd-4102-f920-35405956f386"
      },
      "outputs": [
        {
          "name": "stdout",
          "output_type": "stream",
          "text": [
            "w=3.00, b=-1.01\n"
          ]
        },
        {
          "data": {
            "image/png": "[encoded data removed]",
            "text/plain": [
              "<Figure size 640x480 with 1 Axes>"
            ]
          },
          "metadata": {},
          "output_type": "display_data"
        }
      ],
      "source": [
        "theta = jnp.array([1., 1.])\n",
        "\n",
        "for _ in range(1000):\n",
        "  theta = update(theta, xs, ys)\n",
        "\n",
        "plt.scatter(xs, ys)\n",
        "plt.plot(xs, model(theta, xs))\n",
        "\n",
        "w, b = theta\n",
        "# Correct answer is w=3, b=-1\n",
        "print(f\"{w=:<.2f}, {b=:<.2f}\")"
      ]
    },
    {
      "cell_type": "markdown",
      "metadata": {
        "id": "FmMLfktIEpxr"
      },
      "source": [
        "# Just In Time Compilation with JAX\n",
        "\n",
        "https://jax.readthedocs.io/en/latest/jax-101/02-jitting.html"
      ]
    },
    {
      "cell_type": "markdown",
      "metadata": {
        "id": "ukilVLxIEwt-"
      },
      "source": [
        "## How JAX transforms work"
      ]
    },
    {
      "cell_type": "markdown",
      "metadata": {
        "id": "gAZ9a2RMFANV"
      },
      "source": [
        "`global_list` update is not in the output. Tracers do not record Python side effect."
      ]
    },
    {
      "cell_type": "code",
      "execution_count": 43,
      "metadata": {
        "colab": {
          "base_uri": "https://localhost:8080/"
        },
        "id": "EbRAepMYEv9k",
        "outputId": "5a514c28-f5c9-4e84-8aee-4a6dc535751a"
      },
      "outputs": [
        {
          "name": "stdout",
          "output_type": "stream",
          "text": [
            "{ lambda ; a:f32[]. let\n",
            "    b:f32[] = log a\n",
            "    c:f32[] = log 2.0\n",
            "    d:f32[] = div b c\n",
            "  in (d,) }\n"
          ]
        }
      ],
      "source": [
        "import jax\n",
        "import jax.numpy as jnp\n",
        "\n",
        "global_list = []\n",
        "def log2(x):\n",
        "  global_list.append(x)\n",
        "  ln_x = jnp.log(x)\n",
        "  ln_2 = jnp.log(2.0)\n",
        "  return ln_x / ln_2\n",
        "\n",
        "print(jax.make_jaxpr(log2)(3.0))"
      ]
    },
    {
      "cell_type": "markdown",
      "metadata": {
        "id": "B5UcBIBKFZ4-"
      },
      "source": [
        "`print` is also a side effect."
      ]
    },
    {
      "cell_type": "code",
      "execution_count": 44,
      "metadata": {
        "colab": {
          "base_uri": "https://localhost:8080/"
        },
        "id": "kDm7VSOBE-E5",
        "outputId": "c707b615-6235-4158-ab39-ecaab339cd82"
      },
      "outputs": [
        {
          "name": "stdout",
          "output_type": "stream",
          "text": [
            "printed x: Traced<ShapedArray(float32[], weak_type=True)>with<DynamicJaxprTrace(level=1/0)>\n",
            "{ lambda ; a:f32[]. let\n",
            "    b:f32[] = log a\n",
            "    c:f32[] = log 2.0\n",
            "    d:f32[] = div b c\n",
            "  in (d,) }\n"
          ]
        }
      ],
      "source": [
        "def log2_with_print(x):\n",
        "  print(\"printed x:\", x)\n",
        "  ln_x = jnp.log(x)\n",
        "  ln_2 = jnp.log(2.0)\n",
        "  return ln_x / ln_2\n",
        "\n",
        "print(jax.make_jaxpr(log2_with_print)(3.0))"
      ]
    },
    {
      "cell_type": "markdown",
      "metadata": {
        "id": "3oyeXkuvFnXt"
      },
      "source": [
        "jaxpr only knows about the branch we take."
      ]
    },
    {
      "cell_type": "code",
      "execution_count": 45,
      "metadata": {
        "colab": {
          "base_uri": "https://localhost:8080/"
        },
        "id": "y68V58RAFY_i",
        "outputId": "c3c94286-5423-4598-e2f5-7131811446b0"
      },
      "outputs": [
        {
          "name": "stdout",
          "output_type": "stream",
          "text": [
            "{ lambda ; a:i32[3]. let  in (a,) }\n"
          ]
        }
      ],
      "source": [
        "def log2_if_rank_2(x):\n",
        "  if x.ndim == 2:\n",
        "    ln_x = jnp.log(x)\n",
        "    ln_2 = jnp.log(2.0)\n",
        "    return ln_x / ln_2\n",
        "  else:\n",
        "    return x\n",
        "\n",
        "print(jax.make_jaxpr(log2_if_rank_2)(jax.numpy.array([1, 2, 3])))"
      ]
    },
    {
      "cell_type": "markdown",
      "metadata": {
        "id": "yX8RUkHrGA4y"
      },
      "source": [
        "## JIT compiling a function"
      ]
    },
    {
      "cell_type": "code",
      "execution_count": 46,
      "metadata": {
        "colab": {
          "base_uri": "https://localhost:8080/"
        },
        "id": "L3ecQBgyGCOM",
        "outputId": "7f44f4d5-cd71-41ec-aef5-d599446db864"
      },
      "outputs": [
        {
          "name": "stdout",
          "output_type": "stream",
          "text": [
            "The slowest run took 19.09 times longer than the fastest. This could mean that an intermediate result is being cached.\n",
            "7.46 ms ± 9.69 ms per loop (mean ± std. dev. of 7 runs, 10 loops each)\n"
          ]
        }
      ],
      "source": [
        "import jax\n",
        "import jax.numpy as jnp\n",
        "\n",
        "def selu(x, alpha=1.67, lambda_=1.05):\n",
        "  return lambda_ * jnp.where(x > 0, x, alpha * jnp.exp(x) - alpha)\n",
        "\n",
        "x = jnp.arange(1000000)\n",
        "%timeit selu(x).block_until_ready()"
      ]
    },
    {
      "cell_type": "code",
      "execution_count": 47,
      "metadata": {
        "colab": {
          "base_uri": "https://localhost:8080/"
        },
        "id": "XhfsaM7cGdmy",
        "outputId": "2664490b-0edc-48eb-aab4-ba813e917ce3"
      },
      "outputs": [
        {
          "name": "stdout",
          "output_type": "stream",
          "text": [
            "The slowest run took 20.83 times longer than the fastest. This could mean that an intermediate result is being cached.\n",
            "4.31 ms ± 2.76 ms per loop (mean ± std. dev. of 7 runs, 100 loops each)\n"
          ]
        }
      ],
      "source": [
        "selu_jit = jax.jit(selu)\n",
        "\n",
        "# Warm up\n",
        "selu_jit(x).block_until_ready()\n",
        "%timeit selu_jit(x).block_until_ready()"
      ]
    },
    {
      "cell_type": "markdown",
      "metadata": {
        "id": "uJvGGXLLHFU8"
      },
      "source": [
        "## Why can't we just JIT everything?"
      ]
    },
    {
      "cell_type": "markdown",
      "metadata": {
        "id": "Vqbh44BeHkXY"
      },
      "source": [
        "Each tracer has a concrete shape (which we're allowed to condition on), but no concrete value."
      ]
    },
    {
      "cell_type": "code",
      "execution_count": 48,
      "metadata": {
        "colab": {
          "base_uri": "https://localhost:8080/",
          "height": 543
        },
        "id": "OHDDsOaCGvqx",
        "outputId": "dc75253d-2e7a-4526-f6fc-7f4bfd6b3ae5"
      },
      "outputs": [
        {
          "ename": "ConcretizationTypeError",
          "evalue": "Abstract tracer value encountered where concrete value is expected: Traced<ShapedArray(bool[], weak_type=True)>with<DynamicJaxprTrace(level=1/0)>\nThe problem arose with the `bool` function. \nThe error occurred while tracing the function f at /var/folders/09/9zmlsg756kxfcbx6l3tdhf600000gn/T/ipykernel_68760/3042826219.py:3 for jit. This concrete value was not available in Python because it depends on the value of the argument x.\n\nSee https://jax.readthedocs.io/en/latest/errors.html#jax.errors.ConcretizationTypeError",
          "output_type": "error",
          "traceback": [
            "\u001b[0;31mConcretizationTypeError\u001b[0m\u001b[0;31m:\u001b[0m Abstract tracer value encountered where concrete value is expected: Traced<ShapedArray(bool[], weak_type=True)>with<DynamicJaxprTrace(level=1/0)>\nThe problem arose with the `bool` function. \nThe error occurred while tracing the function f at /var/folders/09/9zmlsg756kxfcbx6l3tdhf600000gn/T/ipykernel_68760/3042826219.py:3 for jit. This concrete value was not available in Python because it depends on the value of the argument x.\n\nSee https://jax.readthedocs.io/en/latest/errors.html#jax.errors.ConcretizationTypeError\n"
          ]
        }
      ],
      "source": [
        "# Condition on value of x.\n",
        "\n",
        "def f(x):\n",
        "  if x > 0:\n",
        "    return x\n",
        "  else:\n",
        "    return 2 * x\n",
        "\n",
        "f_jit = jax.jit(f)\n",
        "f_jit(1)  # should raise an error"
      ]
    },
    {
      "cell_type": "code",
      "execution_count": 49,
      "metadata": {
        "colab": {
          "base_uri": "https://localhost:8080/",
          "height": 543
        },
        "id": "lAuJQUVaHE3j",
        "outputId": "2817eda0-bfe9-4aad-f16e-6343ffca4569"
      },
      "outputs": [
        {
          "ename": "ConcretizationTypeError",
          "evalue": "Abstract tracer value encountered where concrete value is expected: Traced<ShapedArray(bool[], weak_type=True)>with<DynamicJaxprTrace(level=1/0)>\nThe problem arose with the `bool` function. \nThe error occurred while tracing the function g at /var/folders/09/9zmlsg756kxfcbx6l3tdhf600000gn/T/ipykernel_68760/1062237430.py:3 for jit. This concrete value was not available in Python because it depends on the value of the argument n.\n\nSee https://jax.readthedocs.io/en/latest/errors.html#jax.errors.ConcretizationTypeError",
          "output_type": "error",
          "traceback": [
            "\u001b[0;31mConcretizationTypeError\u001b[0m\u001b[0;31m:\u001b[0m Abstract tracer value encountered where concrete value is expected: Traced<ShapedArray(bool[], weak_type=True)>with<DynamicJaxprTrace(level=1/0)>\nThe problem arose with the `bool` function. \nThe error occurred while tracing the function g at /var/folders/09/9zmlsg756kxfcbx6l3tdhf600000gn/T/ipykernel_68760/1062237430.py:3 for jit. This concrete value was not available in Python because it depends on the value of the argument n.\n\nSee https://jax.readthedocs.io/en/latest/errors.html#jax.errors.ConcretizationTypeError\n"
          ]
        }
      ],
      "source": [
        "# While loop conditioned on x and n.\n",
        "\n",
        "def g(x, n):\n",
        "  i = 0\n",
        "  while i < n:\n",
        "    i += 1\n",
        "  return x + i\n",
        "\n",
        "g_jit = jax.jit(g)\n",
        "g_jit(10, 20)  # Should raise an error."
      ]
    },
    {
      "cell_type": "markdown",
      "metadata": {
        "id": "qu2d8iXAIjqJ"
      },
      "source": [
        "Use [control flow operators](https://jax.readthedocs.io/en/latest/jax.lax.html#control-flow-operators) like `jax.lax.cond` or jit only the part of the function."
      ]
    },
    {
      "cell_type": "code",
      "execution_count": 50,
      "metadata": {
        "colab": {
          "base_uri": "https://localhost:8080/"
        },
        "id": "S-vTrM7jHSkJ",
        "outputId": "9775335d-2d81-4f56-f821-bf3f8154192f"
      },
      "outputs": [
        {
          "data": {
            "text/plain": [
              "Array(30, dtype=int32, weak_type=True)"
            ]
          },
          "execution_count": 50,
          "metadata": {},
          "output_type": "execute_result"
        }
      ],
      "source": [
        "@jax.jit\n",
        "def loop_body(prev_i):\n",
        "  return prev_i + 1\n",
        "\n",
        "def g_inner_jitted(x, n):\n",
        "  i = 0\n",
        "  while i < n:\n",
        "    i = loop_body(i)\n",
        "  return x + i\n",
        "\n",
        "g_inner_jitted(10, 20)"
      ]
    },
    {
      "cell_type": "markdown",
      "metadata": {
        "id": "iP3RWEfQJLHZ"
      },
      "source": [
        "Tell jax to a less abstract tracer using `static_argnums` or `static_argnames`. Resulting jaxpr is less flexible."
      ]
    },
    {
      "cell_type": "code",
      "execution_count": 51,
      "metadata": {
        "colab": {
          "base_uri": "https://localhost:8080/"
        },
        "id": "gwJIT8LlI5yq",
        "outputId": "b2d1ba90-8db3-433f-ac1c-b0f298d061ca"
      },
      "outputs": [
        {
          "name": "stdout",
          "output_type": "stream",
          "text": [
            "10\n"
          ]
        }
      ],
      "source": [
        "def f(x):\n",
        "  if x > 0:\n",
        "    return x\n",
        "  else:\n",
        "    return 2 * x\n",
        "\n",
        "f_jit_correct = jax.jit(f, static_argnums=0)\n",
        "print(f_jit_correct(10))"
      ]
    },
    {
      "cell_type": "code",
      "execution_count": 52,
      "metadata": {
        "colab": {
          "base_uri": "https://localhost:8080/"
        },
        "id": "D67d1XA4JO4x",
        "outputId": "5dba62e4-d39d-469c-a17e-35cbdc95ebbc"
      },
      "outputs": [
        {
          "name": "stdout",
          "output_type": "stream",
          "text": [
            "30\n"
          ]
        }
      ],
      "source": [
        "def g(x, n):\n",
        "  i = 0\n",
        "  while i < n:\n",
        "    i += 1\n",
        "  return x + i\n",
        "\n",
        "g_jit_correct = jax.jit(g, static_argnames=['n'])\n",
        "print(g_jit_correct(10, 20))"
      ]
    },
    {
      "cell_type": "code",
      "execution_count": 53,
      "metadata": {
        "colab": {
          "base_uri": "https://localhost:8080/"
        },
        "id": "xJ_bYC0nJfpg",
        "outputId": "cec1e4ab-4477-44c0-cef6-d1d606aca6ce"
      },
      "outputs": [
        {
          "name": "stdout",
          "output_type": "stream",
          "text": [
            "30\n"
          ]
        }
      ],
      "source": [
        "from functools import partial\n",
        "\n",
        "@partial(jax.jit, static_argnames=['n'])\n",
        "def g_jit_deocorated(x, n):\n",
        "  i = 0\n",
        "  while i < n:\n",
        "    i += 1\n",
        "  return x + i\n",
        "\n",
        "print(g_jit_deocorated(10, 20))"
      ]
    },
    {
      "cell_type": "markdown",
      "metadata": {
        "id": "N4bTA9HDJz2q"
      },
      "source": [
        "## When to use JIT"
      ]
    },
    {
      "cell_type": "markdown",
      "metadata": {
        "id": "ENv9O-5AJ7OA"
      },
      "source": [
        "Jit the largest possible chunk of computation."
      ]
    },
    {
      "cell_type": "code",
      "execution_count": 54,
      "metadata": {
        "colab": {
          "base_uri": "https://localhost:8080/"
        },
        "id": "wHf2ajuiJtDF",
        "outputId": "3c867621-6ad2-4778-8453-e75d86a937d2"
      },
      "outputs": [
        {
          "name": "stdout",
          "output_type": "stream",
          "text": [
            "g jitted:\n",
            "The slowest run took 9.77 times longer than the fastest. This could mean that an intermediate result is being cached.\n",
            "2.6 ms ± 2.08 ms per loop (mean ± std. dev. of 7 runs, 1,000 loops each)\n",
            "g:\n",
            "315 ns ± 11.2 ns per loop (mean ± std. dev. of 7 runs, 1,000,000 loops each)\n"
          ]
        }
      ],
      "source": [
        "print(\"g jitted:\")\n",
        "%timeit g_jit_correct(10, 20).block_until_ready()\n",
        "\n",
        "print(\"g:\")\n",
        "%timeit g(10, 20)"
      ]
    },
    {
      "cell_type": "markdown",
      "metadata": {
        "id": "qDmIrbeZJ_DF"
      },
      "source": [
        "## Caching"
      ]
    },
    {
      "cell_type": "markdown",
      "metadata": {
        "id": "d5RUN0izaUJ8"
      },
      "source": [
        "Avoid calling `jax.jit` inside loops. Esp., `partial` and `lambda` generate different function hash every time called."
      ]
    },
    {
      "cell_type": "code",
      "execution_count": 55,
      "metadata": {
        "colab": {
          "base_uri": "https://localhost:8080/"
        },
        "id": "KkfvAeg4J3sO",
        "outputId": "4d01e6cd-0aeb-4dd9-b9f2-b2637d5bc7a9"
      },
      "outputs": [
        {
          "name": "stdout",
          "output_type": "stream",
          "text": [
            "jit called in a loop with partials:\n",
            "539 ms ± 55.2 ms per loop (mean ± std. dev. of 7 runs, 1 loop each)\n",
            "jit called in a loop with lambdas:\n",
            "268 ms ± 63.8 ms per loop (mean ± std. dev. of 7 runs, 1 loop each)\n",
            "jit called in a loop with caching:\n",
            "The slowest run took 22.24 times longer than the fastest. This could mean that an intermediate result is being cached.\n",
            "108 ms ± 130 ms per loop (mean ± std. dev. of 7 runs, 10 loops each)\n"
          ]
        }
      ],
      "source": [
        "from functools import partial\n",
        "\n",
        "def unjitted_loop_body(prev_i):\n",
        "  return prev_i + 1\n",
        "\n",
        "def g_inner_jitted_partial(x, n):\n",
        "  i = 0\n",
        "  while i < n:\n",
        "    # Don't do this! each time the partial returns\n",
        "    # a function with different hash\n",
        "    i = jax.jit(partial(unjitted_loop_body))(i)\n",
        "  return x + i\n",
        "\n",
        "def g_inner_jitted_lambda(x, n):\n",
        "  i = 0\n",
        "  while i < n:\n",
        "    # Don't do this!, lambda will also return\n",
        "    # a function with a different hash\n",
        "    i = jax.jit(lambda x: unjitted_loop_body(x))(i)\n",
        "  return x + i\n",
        "\n",
        "def g_inner_jitted_normal(x, n):\n",
        "  i = 0\n",
        "  while i < n:\n",
        "    # this is OK, since JAX can find the\n",
        "    # cached, compiled function\n",
        "    i = jax.jit(unjitted_loop_body)(i)\n",
        "  return x + i\n",
        "\n",
        "print(\"jit called in a loop with partials:\")\n",
        "%timeit g_inner_jitted_partial(10, 20).block_until_ready()\n",
        "\n",
        "print(\"jit called in a loop with lambdas:\")\n",
        "%timeit g_inner_jitted_lambda(10, 20).block_until_ready()\n",
        "\n",
        "print(\"jit called in a loop with caching:\")\n",
        "%timeit g_inner_jitted_normal(10, 20).block_until_ready()"
      ]
    },
    {
      "cell_type": "markdown",
      "metadata": {
        "id": "oo2ANO8WKYjD"
      },
      "source": [
        "# Automatic vectorization in JAX\n",
        "https://jax.readthedocs.io/en/latest/jax-101/03-vectorization.html"
      ]
    },
    {
      "cell_type": "markdown",
      "metadata": {
        "id": "zhr_OgnkKaqc"
      },
      "source": [
        "## Manual vectorization"
      ]
    },
    {
      "cell_type": "code",
      "execution_count": 56,
      "metadata": {
        "colab": {
          "base_uri": "https://localhost:8080/"
        },
        "id": "Yw-EtLwbKXDW",
        "outputId": "1a3ffd6c-8606-4d45-eb60-57a90f5ddd5d"
      },
      "outputs": [
        {
          "data": {
            "text/plain": [
              "Array([11., 20., 29.], dtype=float32)"
            ]
          },
          "execution_count": 56,
          "metadata": {},
          "output_type": "execute_result"
        }
      ],
      "source": [
        "import jax\n",
        "import jax.numpy as jnp\n",
        "\n",
        "x = jnp.arange(5)\n",
        "w = jnp.array([2., 3., 4.])\n",
        "\n",
        "def convolve(x, w):\n",
        "  output = []\n",
        "  for i in range(1, len(x)-1):\n",
        "    output.append(jnp.dot(x[i-1:i+2], w))\n",
        "  return jnp.array(output)\n",
        "\n",
        "convolve(x, w)"
      ]
    },
    {
      "cell_type": "code",
      "execution_count": 57,
      "metadata": {
        "colab": {
          "base_uri": "https://localhost:8080/"
        },
        "id": "hnA4kzu2LEhx",
        "outputId": "89513bd6-9e0a-4ba6-fd1b-9615183614f6"
      },
      "outputs": [
        {
          "name": "stdout",
          "output_type": "stream",
          "text": [
            "[[0 1 2 3 4]\n",
            " [0 1 2 3 4]]\n",
            "[[2. 3. 4.]\n",
            " [2. 3. 4.]]\n"
          ]
        }
      ],
      "source": [
        "xs = jnp.stack([x, x])\n",
        "ws = jnp.stack([w, w])\n",
        "\n",
        "print(xs)\n",
        "print(ws)"
      ]
    },
    {
      "cell_type": "code",
      "execution_count": 58,
      "metadata": {
        "colab": {
          "base_uri": "https://localhost:8080/"
        },
        "id": "OcYMIJomLenm",
        "outputId": "705fb094-b84d-4b60-c29f-591e0921009f"
      },
      "outputs": [
        {
          "data": {
            "text/plain": [
              "Array([[11., 20., 29.],\n",
              "       [11., 20., 29.]], dtype=float32)"
            ]
          },
          "execution_count": 58,
          "metadata": {},
          "output_type": "execute_result"
        }
      ],
      "source": [
        "def manually_batched_convolve(xs, ws):\n",
        "  output = []\n",
        "  for i in range(xs.shape[0]):\n",
        "    output.append(convolve(xs[i], ws[i]))\n",
        "  return jnp.stack(output)\n",
        "\n",
        "manually_batched_convolve(xs, ws)"
      ]
    },
    {
      "cell_type": "markdown",
      "metadata": {
        "id": "zgb6pce2LsY2"
      },
      "source": [
        "You would normally have to rewrite the function to ensure it is done in vectorized form."
      ]
    },
    {
      "cell_type": "code",
      "execution_count": 59,
      "metadata": {
        "colab": {
          "base_uri": "https://localhost:8080/"
        },
        "id": "i6dewmSjLnf-",
        "outputId": "108bc98f-f94a-45f8-f373-8d14d70a7b3b"
      },
      "outputs": [
        {
          "data": {
            "text/plain": [
              "Array([[11., 20., 29.],\n",
              "       [11., 20., 29.]], dtype=float32)"
            ]
          },
          "execution_count": 59,
          "metadata": {},
          "output_type": "execute_result"
        }
      ],
      "source": [
        "def manually_vectorized_convolve(xs, ws):\n",
        "  output = []\n",
        "  for i in range(1, xs.shape[-1]-1):\n",
        "    output.append(jnp.sum(xs[:, i-1:i+2] * ws, axis=1))\n",
        "  return jnp.stack(output, axis=1)\n",
        "\n",
        "manually_vectorized_convolve(xs, ws)"
      ]
    },
    {
      "cell_type": "markdown",
      "metadata": {
        "id": "s2Y5TJIHMAA3"
      },
      "source": [
        "## Automatic Vectorization"
      ]
    },
    {
      "cell_type": "markdown",
      "metadata": {
        "id": "tnEMP8q3MDdp"
      },
      "source": [
        "`jax.vmap` generates an automatic vectorization, tracing functions similarty to `jax.jit` and adding batch axes at the beginning."
      ]
    },
    {
      "cell_type": "code",
      "execution_count": 60,
      "metadata": {
        "colab": {
          "base_uri": "https://localhost:8080/"
        },
        "id": "O8VCLJBrL65e",
        "outputId": "8a36ec40-cb35-41b0-e9ff-ef065f471053"
      },
      "outputs": [
        {
          "data": {
            "text/plain": [
              "Array([[11., 20., 29.],\n",
              "       [11., 20., 29.]], dtype=float32)"
            ]
          },
          "execution_count": 60,
          "metadata": {},
          "output_type": "execute_result"
        }
      ],
      "source": [
        "def convolve(x, w):\n",
        "  output = []\n",
        "  for i in range(1, len(x)-1):\n",
        "    output.append(jnp.dot(x[i-1:i+2], w))\n",
        "  return jnp.array(output)\n",
        "\n",
        "auto_batch_convolve = jax.vmap(convolve)\n",
        "auto_batch_convolve(xs, ws)"
      ]
    },
    {
      "cell_type": "markdown",
      "metadata": {
        "id": "r25W0tllMZkV"
      },
      "source": [
        "If batch dimenstion is not the first, use `in_axes` and `out_axes`."
      ]
    },
    {
      "cell_type": "code",
      "execution_count": 61,
      "metadata": {
        "colab": {
          "base_uri": "https://localhost:8080/"
        },
        "id": "30mNMQ4yMM6Y",
        "outputId": "01c20efd-60a3-42cf-9af7-75a4e5475d82"
      },
      "outputs": [
        {
          "data": {
            "text/plain": [
              "Array([[11., 11.],\n",
              "       [20., 20.],\n",
              "       [29., 29.]], dtype=float32)"
            ]
          },
          "execution_count": 61,
          "metadata": {},
          "output_type": "execute_result"
        }
      ],
      "source": [
        "auto_batch_convolve_v2 = jax.vmap(convolve, in_axes=1, out_axes=1)\n",
        "\n",
        "xst = jnp.transpose(xs)\n",
        "wst = jnp.transpose(ws)\n",
        "\n",
        "auto_batch_convolve_v2(xst, wst)"
      ]
    },
    {
      "cell_type": "markdown",
      "metadata": {
        "id": "15GdDibmMymr"
      },
      "source": [
        "Only one of the argument can be batched."
      ]
    },
    {
      "cell_type": "code",
      "execution_count": 62,
      "metadata": {
        "colab": {
          "base_uri": "https://localhost:8080/"
        },
        "id": "tjhEnuokMd58",
        "outputId": "ff47e125-1bce-42f8-98b8-6cca9c78c2cc"
      },
      "outputs": [
        {
          "data": {
            "text/plain": [
              "Array([[11., 20., 29.],\n",
              "       [11., 20., 29.]], dtype=float32)"
            ]
          },
          "execution_count": 62,
          "metadata": {},
          "output_type": "execute_result"
        }
      ],
      "source": [
        "batch_convolve_v3 = jax.vmap(convolve, in_axes=[0, None])\n",
        "batch_convolve_v3(xs, w)"
      ]
    },
    {
      "cell_type": "markdown",
      "metadata": {
        "id": "q4SAEwgwNIWr"
      },
      "source": [
        "## Combining transformation"
      ]
    },
    {
      "cell_type": "code",
      "execution_count": 63,
      "metadata": {
        "colab": {
          "base_uri": "https://localhost:8080/"
        },
        "id": "UnRxCGALM0ty",
        "outputId": "cb4c5461-8226-424c-f65b-6f5bfee8296b"
      },
      "outputs": [
        {
          "data": {
            "text/plain": [
              "Array([[11., 20., 29.],\n",
              "       [11., 20., 29.]], dtype=float32)"
            ]
          },
          "execution_count": 63,
          "metadata": {},
          "output_type": "execute_result"
        }
      ],
      "source": [
        "jitted_batch_convolve = jax.jit(auto_batch_convolve)\n",
        "jitted_batch_convolve(xs, ws)"
      ]
    },
    {
      "cell_type": "markdown",
      "metadata": {
        "id": "4ZR2zEd9N0n0"
      },
      "source": [
        "# Advanced Automatic Differentiation in JAX\n",
        "\n",
        "This section is skipped completely since it'd require replicating the entire contents due to amount of contex.\n",
        "\n",
        "https://jax.readthedocs.io/en/latest/jax-101/04-advanced-autodiff.html"
      ]
    },
    {
      "cell_type": "markdown",
      "metadata": {
        "id": "FgL839ZfS4_h"
      },
      "source": [
        "# Pseudo Random Numbers in JAX\n",
        "\n",
        "https://jax.readthedocs.io/en/latest/jax-101/05-random-numbers.html"
      ]
    },
    {
      "cell_type": "markdown",
      "metadata": {
        "id": "dI_Ys-nvS_Dy"
      },
      "source": [
        "## Random numbers in numpy"
      ]
    },
    {
      "cell_type": "markdown",
      "metadata": {
        "id": "NqBXSUTETImo"
      },
      "source": [
        "Numpy relies on global `state`."
      ]
    },
    {
      "cell_type": "code",
      "execution_count": 64,
      "metadata": {
        "colab": {
          "base_uri": "https://localhost:8080/"
        },
        "id": "RwJrrkxqQ8h7",
        "outputId": "9dbf0c78-f786-4c7e-c733-2350ea63e5c7"
      },
      "outputs": [
        {
          "name": "stdout",
          "output_type": "stream",
          "text": [
            "('MT19937', array([         0,          1, 1812433255, 1900727105, 1208447044,\n",
            "       2481403966, 4042607538,  337614300, 3232553940, 1018809052,\n",
            "       3202401494, 1775180719, 3192392114,  594215549,  184016991,\n",
            "        829906058,  610491522, 3879932251, 3139825610,  297902587,\n",
            "       4075895579, 2943625357, 3530655617, 1423771745, 2135928312,\n",
            "       2891506774, 1066338622,  135451537,  933040465, 2759011858,\n",
            "       2273819758, 3545703099, 2516396728, 127 ...\n",
            "('MT19937', array([2443250962, 1093594115, 1878467924, 2709361018, 1101979660,\n",
            "       3904844661,  676747479, 2085143622, 1056793272, 3812477442,\n",
            "       2168787041,  275552121, 2696932952, 3432054210, 1657102335,\n",
            "       3518946594,  962584079, 1051271004, 3806145045, 1414436097,\n",
            "       2032348584, 1661738718, 1116708477, 2562755208, 3176189976,\n",
            "        696824676, 2399811678, 3992505346,  569184356, 2626558620,\n",
            "        136797809, 4273176064,  296167901, 343 ...\n"
          ]
        }
      ],
      "source": [
        "import numpy as np\n",
        "np.random.seed(0)\n",
        "\n",
        "def print_truncated_random_state():\n",
        "  full_random_state = np.random.get_state()\n",
        "  print(str(full_random_state)[:460], '...')\n",
        "\n",
        "print_truncated_random_state()\n",
        "_ = np.random.uniform()\n",
        "print_truncated_random_state()"
      ]
    },
    {
      "cell_type": "markdown",
      "metadata": {
        "id": "D_q-EktdTkqo"
      },
      "source": [
        "Numpy's sequential equivalent gurantee. Output are the same."
      ]
    },
    {
      "cell_type": "code",
      "execution_count": 65,
      "metadata": {
        "colab": {
          "base_uri": "https://localhost:8080/"
        },
        "id": "VKB5z9jzTCeM",
        "outputId": "3354a9be-4119-40c3-8445-a53d7a05f77d"
      },
      "outputs": [
        {
          "name": "stdout",
          "output_type": "stream",
          "text": [
            "individually: [0.5488135  0.71518937 0.60276338]\n",
            "all at once:  [0.5488135  0.71518937 0.60276338]\n"
          ]
        }
      ],
      "source": [
        "np.random.seed(0)\n",
        "print(\"individually:\", np.stack([np.random.uniform() for _ in range(3)]))\n",
        "\n",
        "np.random.seed(0)\n",
        "print(\"all at once: \", np.random.uniform(size=3))"
      ]
    },
    {
      "cell_type": "markdown",
      "metadata": {
        "id": "Cfc4fEw8T26k"
      },
      "source": [
        "## Random numbers in JAX"
      ]
    },
    {
      "cell_type": "markdown",
      "metadata": {
        "id": "s5sDcpGUYKjI"
      },
      "source": [
        "Below relies on the order of `bar`, `baz` execution and that's enforced by python. JAX can't since it parallelizes."
      ]
    },
    {
      "cell_type": "code",
      "execution_count": 66,
      "metadata": {
        "colab": {
          "base_uri": "https://localhost:8080/"
        },
        "id": "T_eamdnNT3xM",
        "outputId": "bb75a42f-ccbb-4d1c-d0d6-a300c7706c0d"
      },
      "outputs": [
        {
          "name": "stdout",
          "output_type": "stream",
          "text": [
            "1.9791922366721637\n"
          ]
        }
      ],
      "source": [
        "import numpy as np\n",
        "\n",
        "np.random.seed(0)\n",
        "\n",
        "def bar(): return np.random.uniform()\n",
        "def baz(): return np.random.uniform()\n",
        "def foo(): return bar() + 2 * baz()\n",
        "\n",
        "print(foo())"
      ]
    },
    {
      "cell_type": "markdown",
      "metadata": {
        "id": "9aaDgTLoYfR7"
      },
      "source": [
        "JAX random function explicitly consumes the state."
      ]
    },
    {
      "cell_type": "code",
      "execution_count": 67,
      "metadata": {
        "colab": {
          "base_uri": "https://localhost:8080/"
        },
        "id": "5HMyUU8_YAi3",
        "outputId": "0ffccbf4-73be-4632-fd10-83951dce7494"
      },
      "outputs": [
        {
          "name": "stdout",
          "output_type": "stream",
          "text": [
            "[42 42]\n",
            "-0.9350606\n",
            "-0.9350606\n"
          ]
        }
      ],
      "source": [
        "from jax import random\n",
        "key = random.PRNGKey(42)\n",
        "print(key)\n",
        "\n",
        "print(random.normal(key))\n",
        "print(random.normal(key))"
      ]
    },
    {
      "cell_type": "markdown",
      "metadata": {
        "id": "RLbJeew0YteR"
      },
      "source": [
        "`split()` the old key to call a random function. Use `subkey` and then discard it forever."
      ]
    },
    {
      "cell_type": "code",
      "execution_count": 68,
      "metadata": {
        "colab": {
          "base_uri": "https://localhost:8080/"
        },
        "id": "CUQKjRTJYdgV",
        "outputId": "58f83a20-a62d-41b2-e89b-d1a8345db4a1"
      },
      "outputs": [
        {
          "name": "stdout",
          "output_type": "stream",
          "text": [
            "old key [42 42]\n",
            "    \\---SPLIT --> new key    [1740183447 2549240159]\n",
            "             \\--> new subkey [355035417 137792341] --> normal 0.43600795\n"
          ]
        }
      ],
      "source": [
        "print(\"old key\", key)\n",
        "new_key, subkey = random.split(key)\n",
        "del key  # The old key is discarded -- we must never use it again.\n",
        "normal_sample = random.normal(subkey)\n",
        "print(r\"    \\---SPLIT --> new key   \", new_key)\n",
        "print(r\"             \\--> new subkey\", subkey, \"--> normal\", normal_sample)\n",
        "del subkey  # The subkey is also discarded after use.\n",
        "\n",
        "# Note: you don't actually need to `del` keys -- that's just for emphasis.\n",
        "# Not reusing the same values is enough.\n",
        "\n",
        "key = new_key  # If we wanted to do this again, we would use new_key as the key."
      ]
    },
    {
      "cell_type": "markdown",
      "metadata": {
        "id": "Y1WmXSpuZJKT"
      },
      "source": [
        "To write concisely and to discard old key:"
      ]
    },
    {
      "cell_type": "code",
      "execution_count": 69,
      "metadata": {
        "id": "o5napVDcYp9Y"
      },
      "outputs": [],
      "source": [
        "key, subkey = random.split(key)"
      ]
    },
    {
      "cell_type": "code",
      "execution_count": 70,
      "metadata": {
        "id": "tOeXHFIQZMP0"
      },
      "outputs": [],
      "source": [
        "key, *forty_two_subkeys = random.split(key, num=43)"
      ]
    },
    {
      "cell_type": "markdown",
      "metadata": {
        "id": "NTIAkP9cZf-K"
      },
      "source": [
        "JAX does not guarantee sequential equivalence."
      ]
    },
    {
      "cell_type": "code",
      "execution_count": 71,
      "metadata": {
        "colab": {
          "base_uri": "https://localhost:8080/"
        },
        "id": "ClhwQ3J9Zckt",
        "outputId": "34a890dd-9484-4fd8-983b-fb0521d9dc4b"
      },
      "outputs": [
        {
          "name": "stdout",
          "output_type": "stream",
          "text": [
            "individually: [-0.5484217  -0.18267898  0.7080024 ]\n",
            "all at once: [-0.2399927  0.9055816 -1.3873793]\n"
          ]
        }
      ],
      "source": [
        "key = random.PRNGKey(42)\n",
        "subkeys = random.split(key, 3)\n",
        "sequence = np.stack([random.normal(subkey) for subkey in subkeys])\n",
        "print(\"individually:\", sequence)\n",
        "\n",
        "# Didn't split key since it's not used anymore.\n",
        "key = random.PRNGKey(42)\n",
        "print(\"all at once:\", random.normal(key, shape=(3,)))"
      ]
    },
    {
      "cell_type": "markdown",
      "metadata": {
        "id": "PYgyqtixaODH"
      },
      "source": [
        "# Working with pytrees"
      ]
    },
    {
      "cell_type": "markdown",
      "metadata": {
        "id": "Qzx-3FwSdSNp"
      },
      "source": [
        "## What is a pytree?"
      ]
    },
    {
      "cell_type": "markdown",
      "metadata": {
        "id": "8QYO4w9vcV5W"
      },
      "source": [
        "Pytree is just a possibly-nested standard or user-registered Python container.\n"
      ]
    },
    {
      "cell_type": "code",
      "execution_count": 72,
      "metadata": {
        "colab": {
          "base_uri": "https://localhost:8080/"
        },
        "id": "zjdQMDgVaNiB",
        "outputId": "652019ea-1b76-470e-c816-477e9177787c"
      },
      "outputs": [
        {
          "name": "stdout",
          "output_type": "stream",
          "text": [
            "[1, 'a', <object object at 0x2d4e34a00>]      has 3 leaves [1, 'a', <object object at 0x2d4e34a00>]\n",
            "(1, (2, 3), ())                               has 3 leaves [1, 2, 3]\n",
            "[1, {'k1': 2, 'k2': (3, 4)}, 5]               has 5 leaves [1, 2, 3, 4, 5]\n",
            "{'a': 2, 'b': (2, 3)}                         has 3 leaves [2, 2, 3]\n",
            "Array([1, 2, 3], dtype=int32)                 has 1 leaves [Array([1, 2, 3], dtype=int32)]\n"
          ]
        }
      ],
      "source": [
        "import jax\n",
        "import jax.numpy as jnp\n",
        "\n",
        "example_trees = [\n",
        "    [1, 'a', object()],\n",
        "    (1, (2, 3), ()),\n",
        "    [1, {'k1': 2, 'k2': (3, 4)}, 5],\n",
        "    {'a': 2, 'b': (2, 3)},\n",
        "    # This is a single leaf.\n",
        "    jnp.array([1, 2, 3]),\n",
        "]\n",
        "\n",
        "# Let's see how many leaves they have\n",
        "for pytree in example_trees:\n",
        "  leaves = jax.tree_util.tree_leaves(pytree)\n",
        "  print(f\"{repr(pytree):<45} has {len(leaves)} leaves {leaves}\")"
      ]
    },
    {
      "cell_type": "markdown",
      "metadata": {
        "id": "Q3bEll0EdUn2"
      },
      "source": [
        "## Why pytrees?\n",
        "\n",
        "- Model paramters\n",
        "- Dataset entries\n",
        "- RL agent observations"
      ]
    },
    {
      "cell_type": "markdown",
      "metadata": {
        "id": "gpwEtOGIdbB9"
      },
      "source": [
        "## Common pytree functions"
      ]
    },
    {
      "cell_type": "markdown",
      "metadata": {
        "id": "5vKx0sMpdvEM"
      },
      "source": [
        "`jax.tree_map` works analogoulsy with Python's `map`."
      ]
    },
    {
      "cell_type": "code",
      "execution_count": 73,
      "metadata": {
        "colab": {
          "base_uri": "https://localhost:8080/"
        },
        "id": "4OH2WHwGc1z_",
        "outputId": "b31a6512-2ffb-45fa-94a1-e41c4279c0f2"
      },
      "outputs": [
        {
          "data": {
            "text/plain": [
              "[[2, 4, 6], [2, 4], [2, 4, 6, 8]]"
            ]
          },
          "execution_count": 73,
          "metadata": {},
          "output_type": "execute_result"
        }
      ],
      "source": [
        "list_of_lists = [\n",
        "    [1, 2, 3],\n",
        "    [1, 2],\n",
        "    [1, 2, 3, 4]\n",
        "]\n",
        "\n",
        "jax.tree_map(lambda x: x*2, list_of_lists)"
      ]
    },
    {
      "cell_type": "markdown",
      "metadata": {
        "id": "LMVBuDBgdscx"
      },
      "source": [
        "Works also with multiple arguments if the stucture exactly matches."
      ]
    },
    {
      "cell_type": "code",
      "execution_count": 74,
      "metadata": {
        "colab": {
          "base_uri": "https://localhost:8080/"
        },
        "id": "95OSSpmtdkbx",
        "outputId": "88b8e6e4-132d-4341-9f8b-34c23cecc411"
      },
      "outputs": [
        {
          "data": {
            "text/plain": [
              "[[2, 4, 6], [2, 4], [2, 4, 6, 8]]"
            ]
          },
          "execution_count": 74,
          "metadata": {},
          "output_type": "execute_result"
        }
      ],
      "source": [
        "another_list_of_lists = list_of_lists\n",
        "jax.tree_map(lambda x, y: x+y, list_of_lists, another_list_of_lists)"
      ]
    },
    {
      "cell_type": "markdown",
      "metadata": {
        "id": "WKEi-yu6d60B"
      },
      "source": [
        "## Example: ML model parameters"
      ]
    },
    {
      "cell_type": "markdown",
      "metadata": {
        "id": "ctbK23GkqbmL"
      },
      "source": [
        "`jax.tree_map` returns a new pytree with the same structure but with the value at each leaf mapped. ([Reference](https://jax.readthedocs.io/en/latest/_autosummary/jax.tree_util.tree_map.html))"
      ]
    },
    {
      "cell_type": "code",
      "execution_count": 75,
      "metadata": {
        "colab": {
          "base_uri": "https://localhost:8080/"
        },
        "id": "AqTftESHdqGy",
        "outputId": "c721dcd3-85b7-4605-faeb-c9e3a29be87b"
      },
      "outputs": [
        {
          "data": {
            "text/plain": [
              "[{'biases': (128,), 'weights': (1, 128)},\n",
              " {'biases': (128,), 'weights': (128, 128)},\n",
              " {'biases': (1,), 'weights': (128, 1)}]"
            ]
          },
          "execution_count": 75,
          "metadata": {},
          "output_type": "execute_result"
        }
      ],
      "source": [
        "import numpy as np\n",
        "\n",
        "def init_mlp_params(layer_widths):\n",
        "  params = []\n",
        "  for n_in, n_out in zip(layer_widths[:-1], layer_widths[1:]):\n",
        "    params.append(\n",
        "        dict(weights=np.random.normal(size=(n_in, n_out)) * np.sqrt(2/n_in),\n",
        "             biases=np.ones(shape=(n_out,)))\n",
        "    )\n",
        "  return params\n",
        "\n",
        "params = init_mlp_params([1, 128, 128, 1])\n",
        "jax.tree_map(lambda x: x.shape, params)\n"
      ]
    },
    {
      "cell_type": "markdown",
      "metadata": {
        "id": "a80gh67xptRr"
      },
      "source": [
        "Let's train our MLP."
      ]
    },
    {
      "cell_type": "code",
      "execution_count": 76,
      "metadata": {
        "colab": {
          "base_uri": "https://localhost:8080/",
          "height": 448
        },
        "id": "cbrs5a04oiBk",
        "outputId": "74eb599a-3d4f-4554-f75e-bbed0f2b2658"
      },
      "outputs": [
        {
          "data": {
            "text/plain": [
              "<matplotlib.legend.Legend at 0x16a361890>"
            ]
          },
          "execution_count": 76,
          "metadata": {},
          "output_type": "execute_result"
        },
        {
          "data": {
            "image/png": "[encoded data removed]",
            "text/plain": [
              "<Figure size 640x480 with 1 Axes>"
            ]
          },
          "metadata": {},
          "output_type": "display_data"
        }
      ],
      "source": [
        "def forward(params, x):\n",
        "  *hidden, last = params\n",
        "  for layer in hidden:\n",
        "    x = jax.nn.relu(x @ layer['weights'] + layer['biases'])\n",
        "  return x @ last['weights'] + last['biases']\n",
        "\n",
        "def loss_fn(params, x, y):\n",
        "  return jnp.mean((forward(params, x) - y) ** 2)\n",
        "\n",
        "LEARNING_RATE = 0.0001\n",
        "\n",
        "@jax.jit\n",
        "def update(params, x, y):\n",
        "  grads = jax.grad(loss_fn)(params, x, y)\n",
        "  # Note that `grads` is a pytree with the same structure as `params`.\n",
        "  # `jax.grad` is one of the many JAX functions that has\n",
        "  # built-in support for pytrees.\n",
        "\n",
        "  # This is handy, because we can apply the SGD update using tree utils:\n",
        "  return jax.tree_map(\n",
        "      # p from params and g from grads\n",
        "      lambda p, g: p - LEARNING_RATE * g, params, grads\n",
        "  )\n",
        "\n",
        "import matplotlib.pyplot as plt\n",
        "\n",
        "xs = np.random.normal(size=(128, 1))\n",
        "ys = xs ** 2\n",
        "\n",
        "for _ in range(1000):\n",
        "  params = update(params, xs, ys)\n",
        "\n",
        "plt.scatter(xs, ys, label=\"Actual\")\n",
        "plt.scatter(xs, forward(params, xs), label=\"Model prediction\")\n",
        "plt.legend()"
      ]
    },
    {
      "cell_type": "markdown",
      "metadata": {
        "id": "HYoyx1_Hq85A"
      },
      "source": [
        "## Key paths"
      ]
    },
    {
      "cell_type": "markdown",
      "metadata": {
        "id": "DhbQEIYtrGM0"
      },
      "source": [
        "A key path for a leaf is a list of keys, where the length of the list is equal to the depth of the leaf in the pytree\n",
        "\n",
        "The APIs for working with key paths are:\n",
        "\n",
        "- `jax.tree_util.tree_flatten_with_path`\n",
        "- `jax.tree_util.tree_map_with_path`\n",
        "- `jax.tree_util.keystr`"
      ]
    },
    {
      "cell_type": "markdown",
      "metadata": {
        "id": "1ZZZS72l2xWk"
      },
      "source": [
        "*Colab fails here since it doesn't support Jax 0.4.*"
      ]
    },
    {
      "cell_type": "code",
      "execution_count": 77,
      "metadata": {
        "colab": {
          "base_uri": "https://localhost:8080/",
          "height": 251
        },
        "id": "1-5IufxmpsMy",
        "outputId": "9b7a3e3d-b717-4677-8db0-806ca7cd14ac"
      },
      "outputs": [
        {
          "name": "stdout",
          "output_type": "stream",
          "text": [
            "Pytree def: PyTreeDef([*, {'k1': *, 'k2': (*, *)}, CustomNode(namedtuple[ATuple], [*])]) \n",
            "\n",
            "(SequenceKey(idx=0),)\n",
            "Value of tree[0]: 1\n",
            "--------\n",
            "(SequenceKey(idx=1), DictKey(key='k1'))\n",
            "Value of tree[1]['k1']: 2\n",
            "--------\n",
            "(SequenceKey(idx=1), DictKey(key='k2'), SequenceKey(idx=0))\n",
            "Value of tree[1]['k2'][0]: 3\n",
            "--------\n",
            "(SequenceKey(idx=1), DictKey(key='k2'), SequenceKey(idx=1))\n",
            "Value of tree[1]['k2'][1]: 4\n",
            "--------\n",
            "(SequenceKey(idx=2), GetAttrKey(name='name'))\n",
            "Value of tree[2].name: foo\n",
            "--------\n"
          ]
        }
      ],
      "source": [
        "import jax\n",
        "import collections\n",
        "\n",
        "ATuple = collections.namedtuple(\"ATuple\", (\"name\"))\n",
        "\n",
        "tree = [1, {\"k1\": 2, \"k2\": (3, 4)}, ATuple(\"foo\")]\n",
        "# NOTE: This fails when\n",
        "flattened, pytree_def = jax.tree_util.tree_flatten_with_path(tree)\n",
        "print(\"Pytree def:\", pytree_def, '\\n')\n",
        "for key_path, value in flattened:\n",
        "  print(key_path)\n",
        "  print(f\"Value of tree{jax.tree_util.keystr(key_path)}: {value}\")\n",
        "  print('--------')"
      ]
    },
    {
      "cell_type": "markdown",
      "metadata": {
        "id": "n3RdvuKntRrA"
      },
      "source": [
        "## Custom pytree node"
      ]
    },
    {
      "cell_type": "markdown",
      "metadata": {
        "id": "1GYXMRRFtWJL"
      },
      "source": [
        "Your own container is considered as leaf."
      ]
    },
    {
      "cell_type": "code",
      "execution_count": 78,
      "metadata": {
        "colab": {
          "base_uri": "https://localhost:8080/"
        },
        "id": "fv0MmdJmrpC1",
        "outputId": "1a67c52d-894f-4c4c-acf6-10a1788b717a"
      },
      "outputs": [
        {
          "data": {
            "text/plain": [
              "[<__main__.MyContainer at 0x2b7fdeb10>, <__main__.MyContainer at 0x16a3e8e50>]"
            ]
          },
          "execution_count": 78,
          "metadata": {},
          "output_type": "execute_result"
        }
      ],
      "source": [
        "import jax\n",
        "\n",
        "class MyContainer:\n",
        "\n",
        "  def __init__(self, name: str, a: int, b: int, c: int):\n",
        "    self.name = name\n",
        "    self.a = a\n",
        "    self.b = b\n",
        "    self.c = c\n",
        "\n",
        "jax.tree_util.tree_leaves([\n",
        "    MyContainer(\"Alice\", 1, 2, 3),\n",
        "    MyContainer(\"Bob\", 4, 5, 6),\n",
        "])"
      ]
    },
    {
      "cell_type": "markdown",
      "metadata": {
        "id": "R0-IZMgOtvxE"
      },
      "source": [
        "We can't go over elements inside the container."
      ]
    },
    {
      "cell_type": "code",
      "execution_count": 79,
      "metadata": {
        "colab": {
          "base_uri": "https://localhost:8080/"
        },
        "id": "HITIo0Mdto1r",
        "outputId": "bce9df5e-58f6-47fb-bfe8-e0c5c8cc94dc"
      },
      "outputs": [
        {
          "name": "stdout",
          "output_type": "stream",
          "text": [
            "TypeEror: unsupported operand type(s) for +: 'MyContainer' and 'int'\n"
          ]
        }
      ],
      "source": [
        "try:\n",
        "  jax.tree_map(lambda x: x + 1, [\n",
        "    MyContainer(\"Alice\", 1, 2, 3),\n",
        "    MyContainer(\"Bob\", 4, 5, 6),\n",
        "  ])\n",
        "except TypeError as e:\n",
        "  print(\"TypeEror:\", e)"
      ]
    },
    {
      "cell_type": "markdown",
      "metadata": {
        "id": "9mJNt3PAt_EA"
      },
      "source": [
        "Use `register_pytree_node` to tell JAX how to flatten our container."
      ]
    },
    {
      "cell_type": "code",
      "execution_count": 80,
      "metadata": {
        "id": "saPjlcywt7-E"
      },
      "outputs": [],
      "source": [
        "from typing import Iterable\n",
        "\n",
        "def flatten_MyContainer(container) -> tuple[Iterable[int], str]:\n",
        "  \"\"\"Returns an iterable over container contents, and aux data.\"\"\"\n",
        "  flat_contents = [container.a, container.b, container.c]\n",
        "\n",
        "  # we don't want the name to appear as child, so it is a aux data.\n",
        "  # aux data is usually a description fo the structure of a node\n",
        "  # e.g,. the keys of a dict - anything that isn't a node's children.\n",
        "  aux_data = container.name\n",
        "  return flat_contents, aux_data\n",
        "\n",
        "def unflatten_MyContainer(\n",
        "    aux_data: str, flat_contents: Iterable[int]) -> MyContainer:\n",
        "    return MyContainer(aux_data, *flat_contents)\n",
        "\n",
        "jax.tree_util.register_pytree_node(\n",
        "    MyContainer, flatten_MyContainer, unflatten_MyContainer\n",
        ")"
      ]
    },
    {
      "cell_type": "code",
      "execution_count": 81,
      "metadata": {
        "colab": {
          "base_uri": "https://localhost:8080/"
        },
        "id": "8Nlj6t2GuovD",
        "outputId": "24b1166d-33b4-4f87-c6ab-69b87e9ee5f2"
      },
      "outputs": [
        {
          "name": "stdout",
          "output_type": "stream",
          "text": [
            "[1, 2, 3, 4, 5, 6]\n"
          ]
        }
      ],
      "source": [
        "my_tree = [\n",
        "    MyContainer(\"Alice\", 1, 2, 3),\n",
        "    MyContainer(\"Bob\", 4, 5, 6),\n",
        "]\n",
        "\n",
        "print(jax.tree_util.tree_leaves(my_tree))"
      ]
    },
    {
      "cell_type": "markdown",
      "metadata": {
        "id": "1g0H3mKYvsPJ"
      },
      "source": [
        "Or use key path API of `register_pytree_with_keys`."
      ]
    },
    {
      "cell_type": "code",
      "execution_count": 82,
      "metadata": {
        "colab": {
          "base_uri": "https://localhost:8080/",
          "height": 251
        },
        "id": "cqFXHn57vGzz",
        "outputId": "d147de95-8ce1-4457-bceb-d7d74268abaa"
      },
      "outputs": [],
      "source": [
        "class MyKeyPathContainer(MyContainer):\n",
        "  pass\n",
        "\n",
        "def flatten_with_keys_MyKeyPathContainer(container) -> tuple[Iterable[int], str]:\n",
        "  # GetAttrKey is a common way to express an attribute key. Users are free\n",
        "  # to pick any other expression that fits their use cases the best.\n",
        "  flat_contents = [\n",
        "      (jax.tree_util.GetAttrKey(\"a\"), container.a),\n",
        "      (jax.tree_util.GetAttrKey(\"b\"), container.b),\n",
        "      (jax.tree_util.GetAttrKey(\"c\"), container.c),\n",
        "  ]\n",
        "  aux_data = container.name\n",
        "  return flat_contents, aux_data\n",
        "\n",
        "def unflatten_MyKeyPathContainer(\n",
        "    aux_data: str, flat_contents: Iterable[int]) -> MyKeyPathContainer:\n",
        "    return MyKeyPathContainer(aux_data, *flat_contents)\n",
        "\n",
        "jax.tree_util.register_pytree_with_keys(\n",
        "    MyKeyPathContainer, flatten_with_keys_MyKeyPathContainer,\n",
        "    unflatten_MyKeyPathContainer)"
      ]
    },
    {
      "cell_type": "code",
      "execution_count": 83,
      "metadata": {
        "colab": {
          "base_uri": "https://localhost:8080/"
        },
        "id": "z_jU395uwY-f",
        "outputId": "daa9e611-efd8-4648-b715-12b839d7e5ee"
      },
      "outputs": [
        {
          "name": "stdout",
          "output_type": "stream",
          "text": [
            "[1, 2, 3, 4, 5, 6]\n"
          ]
        }
      ],
      "source": [
        "tree = [\n",
        "    MyKeyPathContainer('Alice', 1, 2, 3),\n",
        "    MyKeyPathContainer('Bob', 4, 5, 6)\n",
        "]\n",
        "\n",
        "print(jax.tree_util.tree_leaves(tree))"
      ]
    },
    {
      "cell_type": "markdown",
      "metadata": {
        "id": "rQLsbyncw9np"
      },
      "source": [
        "For containers registered with `register_pytree_node`, keys are flat index."
      ]
    },
    {
      "cell_type": "code",
      "execution_count": 84,
      "metadata": {
        "colab": {
          "base_uri": "https://localhost:8080/",
          "height": 251
        },
        "id": "s2hfGBbRwgKy",
        "outputId": "fea0365a-0766-4384-aeb0-3b00319fc760"
      },
      "outputs": [
        {
          "name": "stdout",
          "output_type": "stream",
          "text": [
            "MyContainer container[<flat index 0>]: 1\n",
            "MyContainer container[<flat index 1>]: 2\n",
            "MyContainer container[<flat index 2>]: 3\n",
            "MyKeyPathContainer container.a: 1\n",
            "MyKeyPathContainer container.b: 2\n",
            "MyKeyPathContainer container.c: 3\n"
          ]
        }
      ],
      "source": [
        "flattened, _ = jax.tree_util.tree_flatten_with_path(MyContainer('Alice', 1, 2, 3))\n",
        "for key_path, value in flattened:\n",
        "    print(f'MyContainer container{jax.tree_util.keystr(key_path)}: {value}')\n",
        "\n",
        "flattened, _ = jax.tree_util.tree_flatten_with_path(MyKeyPathContainer('Alice', 1, 2, 3))\n",
        "for key_path, value in flattened:\n",
        "    print(f'MyKeyPathContainer container{jax.tree_util.keystr(key_path)}: {value}')"
      ]
    },
    {
      "cell_type": "markdown",
      "metadata": {
        "id": "t-eOqvHUxO2h"
      },
      "source": [
        "Some python containers work out-of-the-box."
      ]
    },
    {
      "cell_type": "code",
      "execution_count": 85,
      "metadata": {
        "id": "ZYm0PWuEwzfr"
      },
      "outputs": [
        {
          "data": {
            "text/plain": [
              "['Alice', 1, 2, 3, 'Bob', 1, 2, 3]"
            ]
          },
          "execution_count": 85,
          "metadata": {},
          "output_type": "execute_result"
        }
      ],
      "source": [
        "from typing import NamedTuple, Any\n",
        "\n",
        "class MyOtherContainer(NamedTuple):\n",
        "  name: str\n",
        "  a: Any\n",
        "  b: Any\n",
        "  c: Any\n",
        "\n",
        "# `tuple` is already registered with JAX and NamedTuple is its subclass.\n",
        "jax.tree_util.tree_leaves([\n",
        "    MyOtherContainer(\"Alice\", 1, 2, 3),\n",
        "    MyOtherContainer(\"Bob\", 1, 2, 3)\n",
        "])"
      ]
    },
    {
      "cell_type": "markdown",
      "metadata": {
        "id": "eTZECFsoxtTg"
      },
      "source": [
        "## Common pytree gotchas and patterns"
      ]
    },
    {
      "cell_type": "markdown",
      "metadata": {
        "id": "Fp-RLxVex3c-"
      },
      "source": [
        "### Gotchas"
      ]
    },
    {
      "cell_type": "markdown",
      "metadata": {
        "id": "_DzMkshP0V1U"
      },
      "source": [
        "`tree_map` goes over the leaves of shape which is [2, 3, 3, 4]."
      ]
    },
    {
      "cell_type": "code",
      "execution_count": 86,
      "metadata": {
        "id": "ABmzssnqxidW"
      },
      "outputs": [
        {
          "name": "stdout",
          "output_type": "stream",
          "text": [
            "[(2, 3), (3, 4)]\n",
            "[(Array([1., 1.], dtype=float32), Array([1., 1., 1.], dtype=float32)), (Array([1., 1., 1.], dtype=float32), Array([1., 1., 1., 1.], dtype=float32))]\n"
          ]
        }
      ],
      "source": [
        "import jax\n",
        "import jax.numpy as jnp\n",
        "\n",
        "a_tree = [jnp.zeros((2, 3)), jnp.zeros((3, 4))]\n",
        "\n",
        "shapes = jax.tree_map(lambda x: x.shape, a_tree)\n",
        "print(shapes)\n",
        "# It doesn't return (2, 3), (3, 4) arrays.\n",
        "print(jax.tree_map(jnp.ones, shapes))"
      ]
    },
    {
      "cell_type": "markdown",
      "metadata": {
        "id": "AXxcgkAn0oMV"
      },
      "source": [
        "`shapes`'s leaves are not the tuples."
      ]
    },
    {
      "cell_type": "code",
      "execution_count": 87,
      "metadata": {
        "id": "XdA6dgGY0kXO"
      },
      "outputs": [
        {
          "data": {
            "text/plain": [
              "[2, 3, 3, 4]"
            ]
          },
          "execution_count": 87,
          "metadata": {},
          "output_type": "execute_result"
        }
      ],
      "source": [
        "jax.tree_util.tree_leaves(shapes)"
      ]
    },
    {
      "cell_type": "markdown",
      "metadata": {
        "id": "60YT9sSc0uq1"
      },
      "source": [
        "One way is to not using the intermediate treemap."
      ]
    },
    {
      "cell_type": "code",
      "execution_count": 88,
      "metadata": {
        "id": "zDGvABYtzybJ"
      },
      "outputs": [
        {
          "data": {
            "text/plain": [
              "[Array([[1., 1., 1.],\n",
              "        [1., 1., 1.]], dtype=float32),\n",
              " Array([[1., 1., 1., 1.],\n",
              "        [1., 1., 1., 1.],\n",
              "        [1., 1., 1., 1.]], dtype=float32)]"
            ]
          },
          "execution_count": 88,
          "metadata": {},
          "output_type": "execute_result"
        }
      ],
      "source": [
        "jax.tree_map(lambda x: jnp.ones(x.shape), a_tree)"
      ]
    },
    {
      "cell_type": "markdown",
      "metadata": {
        "id": "oG9zOqPN0yB8"
      },
      "source": [
        "Alternatively, turn shapes into `np.array` or `jnp.array` which is considered as leaf."
      ]
    },
    {
      "cell_type": "code",
      "execution_count": 89,
      "metadata": {
        "id": "zwr4pQQw0F-9"
      },
      "outputs": [
        {
          "name": "stdout",
          "output_type": "stream",
          "text": [
            "[Array([2, 3], dtype=int32), Array([3, 4], dtype=int32)]\n",
            "[Array([[1., 1., 1.],\n",
            "       [1., 1., 1.]], dtype=float32), Array([[1., 1., 1., 1.],\n",
            "       [1., 1., 1., 1.],\n",
            "       [1., 1., 1., 1.]], dtype=float32)]\n"
          ]
        }
      ],
      "source": [
        "shapes = jax.tree_map(lambda x: jnp.array(x.shape), a_tree)\n",
        "print(jax.tree_util.tree_leaves(shapes))\n",
        "print(jax.tree_map(jnp.ones, shapes))"
      ]
    },
    {
      "cell_type": "markdown",
      "metadata": {
        "id": "Om7m4Pxb1dTt"
      },
      "source": [
        "### Handling of None"
      ]
    },
    {
      "cell_type": "markdown",
      "metadata": {
        "id": "YCdjyRno1huS"
      },
      "source": [
        "`None` is a node without children."
      ]
    },
    {
      "cell_type": "code",
      "execution_count": 90,
      "metadata": {
        "id": "BMdHiWPL07ED"
      },
      "outputs": [
        {
          "data": {
            "text/plain": [
              "[]"
            ]
          },
          "execution_count": 90,
          "metadata": {},
          "output_type": "execute_result"
        }
      ],
      "source": [
        "jax.tree_util.tree_leaves([None, None, None])"
      ]
    },
    {
      "cell_type": "markdown",
      "metadata": {
        "id": "XuMnmM6r1oiH"
      },
      "source": [
        "## Patterns"
      ]
    },
    {
      "cell_type": "markdown",
      "metadata": {
        "id": "qITB93Kr1mg6"
      },
      "source": [
        "### Transposing trees"
      ]
    },
    {
      "cell_type": "markdown",
      "metadata": {},
      "source": [
        "Use `tree_map`"
      ]
    },
    {
      "cell_type": "code",
      "execution_count": 92,
      "metadata": {},
      "outputs": [
        {
          "data": {
            "text/plain": [
              "{'obs': [3, 4], 't': [1, 2]}"
            ]
          },
          "execution_count": 92,
          "metadata": {},
          "output_type": "execute_result"
        }
      ],
      "source": [
        "def tree_transpose(list_of_trees):\n",
        "    return jax.tree_map(lambda *xs: list(xs), *list_of_trees)\n",
        "\n",
        "episode_steps = [dict(t=1, obs=3), dict(t=2, obs=4)]\n",
        "tree_transpose(episode_steps)"
      ]
    },
    {
      "cell_type": "markdown",
      "metadata": {},
      "source": [
        "Or `jax.tree_transpose`"
      ]
    },
    {
      "cell_type": "code",
      "execution_count": 93,
      "metadata": {},
      "outputs": [
        {
          "name": "stderr",
          "output_type": "stream",
          "text": [
            "/var/folders/09/9zmlsg756kxfcbx6l3tdhf600000gn/T/ipykernel_68760/112383129.py:2: FutureWarning: jax.tree_structure is deprecated, and will be removed in a future release. Use jax.tree_util.tree_structure instead.\n",
            "  outer_treedef = jax.tree_structure([0 for e in episode_steps]),\n",
            "/var/folders/09/9zmlsg756kxfcbx6l3tdhf600000gn/T/ipykernel_68760/112383129.py:3: FutureWarning: jax.tree_structure is deprecated, and will be removed in a future release. Use jax.tree_util.tree_structure instead.\n",
            "  inner_treedef = jax.tree_structure(episode_steps[0]),\n",
            "/var/folders/09/9zmlsg756kxfcbx6l3tdhf600000gn/T/ipykernel_68760/112383129.py:1: FutureWarning: jax.tree_transpose is deprecated, and will be removed in a future release. Use jax.tree_util.tree_transpose instead.\n",
            "  jax.tree_transpose(\n"
          ]
        },
        {
          "data": {
            "text/plain": [
              "{'obs': [3, 4], 't': [1, 2]}"
            ]
          },
          "execution_count": 93,
          "metadata": {},
          "output_type": "execute_result"
        }
      ],
      "source": [
        "jax.tree_transpose(\n",
        "  outer_treedef = jax.tree_structure([0 for e in episode_steps]),\n",
        "  inner_treedef = jax.tree_structure(episode_steps[0]),\n",
        "  pytree_to_transpose = episode_steps\n",
        ")"
      ]
    },
    {
      "cell_type": "markdown",
      "metadata": {},
      "source": [
        "# Parallel evaluation in JAX\n",
        "https://jax.readthedocs.io/en/latest/jax-101/06-parallelism.html"
      ]
    },
    {
      "cell_type": "markdown",
      "metadata": {},
      "source": [
        "Vectorization via `jax.vmap` and device parallelism via `jax.pmap`."
      ]
    },
    {
      "cell_type": "markdown",
      "metadata": {},
      "source": [
        "## The basics"
      ]
    },
    {
      "cell_type": "code",
      "execution_count": 4,
      "metadata": {},
      "outputs": [
        {
          "data": {
            "text/plain": [
              "Array([11., 20., 29.], dtype=float32)"
            ]
          },
          "execution_count": 4,
          "metadata": {},
          "output_type": "execute_result"
        }
      ],
      "source": [
        "import jax\n",
        "import numpy as np\n",
        "import jax.numpy as jnp\n",
        "\n",
        "x = np.arange(5)\n",
        "w = np.array([2., 3., 4.])\n",
        "\n",
        "def convolve(x, w):\n",
        "    output = []\n",
        "    for i in range(1, len(x) - 1):\n",
        "        output.append(jnp.dot(x[i-1:i+2], w))\n",
        "    return jnp.array(output)\n",
        "\n",
        "convolve(x, w)"
      ]
    },
    {
      "cell_type": "code",
      "execution_count": 5,
      "metadata": {},
      "outputs": [],
      "source": [
        "n_devices = jax.local_device_count()\n",
        "xs = np.arange(5 * n_devices).reshape(-1, 5)\n",
        "ws = np.stack([w] * n_devices)"
      ]
    },
    {
      "cell_type": "markdown",
      "metadata": {},
      "source": [
        "If you have multiple devices, there should be multiple rows."
      ]
    },
    {
      "cell_type": "code",
      "execution_count": 6,
      "metadata": {},
      "outputs": [
        {
          "name": "stdout",
          "output_type": "stream",
          "text": [
            "[[0 1 2 3 4]]\n",
            "[[2. 3. 4.]]\n"
          ]
        }
      ],
      "source": [
        "print(xs)\n",
        "print(ws)"
      ]
    },
    {
      "cell_type": "markdown",
      "metadata": {},
      "source": [
        "Vectorize using `jax.vmap`"
      ]
    },
    {
      "cell_type": "code",
      "execution_count": 7,
      "metadata": {},
      "outputs": [
        {
          "data": {
            "text/plain": [
              "Array([[11., 20., 29.]], dtype=float32)"
            ]
          },
          "execution_count": 7,
          "metadata": {},
          "output_type": "execute_result"
        }
      ],
      "source": [
        "jax.vmap(convolve)(xs, ws)"
      ]
    },
    {
      "cell_type": "markdown",
      "metadata": {},
      "source": [
        "Spread out computation across devices using `jax.pmap`"
      ]
    },
    {
      "cell_type": "code",
      "execution_count": 8,
      "metadata": {},
      "outputs": [
        {
          "data": {
            "text/plain": [
              "Array([[11., 20., 29.]], dtype=float32)"
            ]
          },
          "execution_count": 8,
          "metadata": {},
          "output_type": "execute_result"
        }
      ],
      "source": [
        "jax.pmap(convolve)(xs, ws)"
      ]
    },
    {
      "cell_type": "markdown",
      "metadata": {},
      "source": [
        "What's returned are `jax.Array` sharded across devices. They stay there avoiding cross device communications when there's another parallel computation."
      ]
    },
    {
      "cell_type": "code",
      "execution_count": 9,
      "metadata": {},
      "outputs": [
        {
          "data": {
            "text/plain": [
              "Array([[ 78., 138., 198.]], dtype=float32)"
            ]
          },
          "execution_count": 9,
          "metadata": {},
          "output_type": "execute_result"
        }
      ],
      "source": [
        "jax.pmap(convolve)(xs, jax.pmap(convolve)(xs, ws))"
      ]
    },
    {
      "cell_type": "markdown",
      "metadata": {},
      "source": [
        "## Specifying `in_axes`"
      ]
    },
    {
      "cell_type": "markdown",
      "metadata": {},
      "source": [
        "`in_axes`:\n",
        "- None: Braodcast the argument\n",
        "- 0: Split by leading axis"
      ]
    },
    {
      "cell_type": "code",
      "execution_count": 10,
      "metadata": {},
      "outputs": [
        {
          "data": {
            "text/plain": [
              "Array([[11., 20., 29.]], dtype=float32)"
            ]
          },
          "execution_count": 10,
          "metadata": {},
          "output_type": "execute_result"
        }
      ],
      "source": [
        "# No need for replicating w to get ws.\n",
        "jax.pmap(convolve, in_axes=(0, None))(xs, w)"
      ]
    },
    {
      "cell_type": "markdown",
      "metadata": {},
      "source": [
        "## `pmap` and `jit`"
      ]
    },
    {
      "cell_type": "markdown",
      "metadata": {},
      "source": [
        "`pmap` jit compiles already while we had to `jax.jit(jax.vmap...)` before."
      ]
    },
    {
      "cell_type": "markdown",
      "metadata": {},
      "source": [
        "## Communication between devices"
      ]
    },
    {
      "cell_type": "markdown",
      "metadata": {},
      "source": [
        "Specify `pmap`-ed axis through `axis_name` to use [collective ops](https://jax.readthedocs.io/en/latest/jax.lax.html#parallel-operators) for passing data between devices. "
      ]
    },
    {
      "cell_type": "code",
      "execution_count": 12,
      "metadata": {},
      "outputs": [
        {
          "data": {
            "text/plain": [
              "Array([[1., 1., 1.]], dtype=float32)"
            ]
          },
          "execution_count": 12,
          "metadata": {},
          "output_type": "execute_result"
        }
      ],
      "source": [
        "def normalized_convolution(x, w):\n",
        "    output = []\n",
        "    for i in range(1, len(x) - 1):\n",
        "        output.append(jnp.dot(x[i-1:i+2], w))\n",
        "    output = jnp.array(output)\n",
        "    return output / jax.lax.psum(output, axis_name='p')\n",
        "\n",
        "# axis_name can be anything you and jax.lax.psum uses it\n",
        "# to know which axis to communicate across.\n",
        "jax.pmap(normalized_convolution, axis_name='p')(xs, ws)"
      ]
    },
    {
      "cell_type": "markdown",
      "metadata": {},
      "source": [
        "`jax.vmap` also supports `axis_name` to use `jax.lax.p*` in the vectorization."
      ]
    },
    {
      "cell_type": "code",
      "execution_count": 13,
      "metadata": {},
      "outputs": [
        {
          "data": {
            "text/plain": [
              "Array([[1., 1., 1.]], dtype=float32)"
            ]
          },
          "execution_count": 13,
          "metadata": {},
          "output_type": "execute_result"
        }
      ],
      "source": [
        "jax.vmap(normalized_convolution, axis_name='p')(xs, ws)"
      ]
    },
    {
      "cell_type": "markdown",
      "metadata": {},
      "source": [
        "## Nesting `jax.pmap` and `jax.vmap`"
      ]
    },
    {
      "cell_type": "markdown",
      "metadata": {},
      "source": [
        "We use string as axis_name for collective operation when nesting:\n",
        "\n",
        "jax.vmap(jax.pmap(f, axis_name='i'), axis_name='j')"
      ]
    },
    {
      "cell_type": "markdown",
      "metadata": {},
      "source": [
        "## Example"
      ]
    },
    {
      "cell_type": "code",
      "execution_count": 20,
      "metadata": {},
      "outputs": [
        {
          "name": "stdout",
          "output_type": "stream",
          "text": [
            "<class 'jaxlib.xla_extension.ArrayImpl'>\n",
            "<class 'numpy.ndarray'>\n"
          ]
        }
      ],
      "source": [
        "import jax\n",
        "import jax.numpy as jnp\n",
        "\n",
        "from typing import NamedTuple\n",
        "import functools\n",
        "\n",
        "class Params(NamedTuple):\n",
        "    weight: jnp.ndarray\n",
        "    bias: jnp.ndarray\n",
        "    \n",
        "def init(rng) -> Params:\n",
        "    weights_key, bias_key = jax.random.split(rng)\n",
        "    weight = jax.random.normal(weights_key, ())\n",
        "    bias = jax.random.normal(bias_key, ())\n",
        "    return Params(weight, bias)\n",
        "\n",
        "def loss_fn(params: Params, xs: jnp.ndarray, ys: jnp.ndarray) -> jnp.ndarray:\n",
        "    pred = params.weight * xs + params.bias\n",
        "    return jnp.mean((pred - ys)**2)\n",
        "\n",
        "LEARNING_RATE = 0.005\n",
        "\n",
        "@functools.partial(jax.pmap, axis_name='num_devices')\n",
        "def update(params: Params, \n",
        "           xs: jnp.ndarray, \n",
        "           ys: jnp.ndarray) -> tuple[Params, jnp.ndarray]:\n",
        "    loss, grad = jax.value_and_grad(loss_fn)(params, xs, ys)\n",
        "    # Combine grads and loss across devices.\n",
        "    grads = jax.lax.pmean(grad, axis_name='num_devices')\n",
        "    loss = jax.lax.pmean(loss, axis_name='num_devices')\n",
        "    new_params = jax.tree_map(\n",
        "        lambda p, g: p - g * LEARNING_RATE, params, grads)\n",
        "    return new_params, loss\n",
        "\n",
        "true_w, true_b = 2, -1\n",
        "xs = np.random.normal(size=(128, 1))\n",
        "noise = 0.5 * np.random.normal(size=(128, 1))\n",
        "ys = xs * true_w + true_b + noise\n",
        "\n",
        "params = init(jax.random.PRNGKey(123))\n",
        "n_devices = jax.local_device_count()\n",
        "replicated_params = jax.tree_map(\n",
        "    lambda x: jnp.array([x] * n_devices), params)\n",
        "\n",
        "# jax.Array that stays on the device\n",
        "print(type(replicated_params.weight))\n",
        "\n",
        "def split(arr):\n",
        "    return arr.reshape(\n",
        "        n_devices, arr.shape[0] // n_devices, *arr.shape[1:])\n",
        "    \n",
        "x_split = split(xs)\n",
        "y_split = split(ys)\n",
        "\n",
        "# Vanilla np array stays on the CPU then sent to device on every\n",
        "# update call.\n",
        "print(type(x_split))"
      ]
    },
    {
      "cell_type": "code",
      "execution_count": 34,
      "metadata": {},
      "outputs": [
        {
          "name": "stdout",
          "output_type": "stream",
          "text": [
            "after first `update()`, `replicated_params.weight` is a `<class 'jaxlib.xla_extension.ArrayImpl'>`\n",
            "after first `update()`, `loss` is a `<class 'jaxlib.xla_extension.ArrayImpl'>`\n",
            "after first `update()`, `x_split` is a `<class 'numpy.ndarray'>`\n",
            "Step   0, loss: 0.225, weight: 2.043, bias: -0.967\n",
            "Step 100, loss: 0.225, weight: 2.043, bias: -0.967\n",
            "Step 200, loss: 0.225, weight: 2.043, bias: -0.967\n",
            "Step 300, loss: 0.225, weight: 2.043, bias: -0.967\n",
            "Step 400, loss: 0.225, weight: 2.043, bias: -0.967\n",
            "Step 500, loss: 0.225, weight: 2.043, bias: -0.967\n",
            "Step 600, loss: 0.225, weight: 2.043, bias: -0.967\n",
            "Step 700, loss: 0.225, weight: 2.043, bias: -0.967\n",
            "Step 800, loss: 0.225, weight: 2.043, bias: -0.967\n",
            "Step 900, loss: 0.225, weight: 2.043, bias: -0.967\n",
            "Params(weight=Array([2.043408], dtype=float32), bias=Array([-0.966768], dtype=float32))\n"
          ]
        }
      ],
      "source": [
        "def type_after_update(name, obj):\n",
        "    print(f\"after first `update()`, `{name}` is a `{type(obj)}`\")\n",
        "    \n",
        "for i in range(1000):\n",
        "    replicated_params, loss = update(\n",
        "        # These are all (n_devices, ...) shape.\n",
        "        replicated_params, x_split, y_split)\n",
        "    if i == 0:\n",
        "        # These two are jax.Arrays staying on the devies.\n",
        "        type_after_update('replicated_params.weight', replicated_params.weight)\n",
        "        type_after_update('loss', loss)\n",
        "        # Remains as np on the host.\n",
        "        type_after_update('x_split', x_split)\n",
        "    if i % 100 == 0:\n",
        "        # Every device has the identical loss. We pick 0th.\n",
        "        print(f\"Step {i:3d}, loss: {loss[0]:.3f}, \"\n",
        "              f\"weight: {replicated_params.weight[0]:.3f}, \"\n",
        "              f\"bias: {replicated_params.bias[0]:.3f}\")\n",
        "    \n",
        "# Get the param from the first deivce    \n",
        "print(replicated_params)\n",
        "params = jax.device_get(\n",
        "    jax.tree_map(lambda x: x[0], replicated_params))        "
      ]
    },
    {
      "cell_type": "code",
      "execution_count": 35,
      "metadata": {},
      "outputs": [
        {
          "data": {
            "image/png": "[encoded data removed]",
            "text/plain": [
              "<Figure size 640x480 with 1 Axes>"
            ]
          },
          "metadata": {},
          "output_type": "display_data"
        }
      ],
      "source": [
        "import matplotlib.pyplot as plt\n",
        "\n",
        "plt.scatter(xs, ys)\n",
        "plt.plot(xs, params.weight * xs + params.bias, \n",
        "         c='red', label='Model Prediction')\n",
        "plt.legend()\n",
        "plt.show()"
      ]
    },
    {
      "cell_type": "markdown",
      "metadata": {},
      "source": [
        "# Stateful Computations in JAX"
      ]
    },
    {
      "cell_type": "code",
      "execution_count": null,
      "metadata": {},
      "outputs": [],
      "source": []
    }
  ],
  "metadata": {
    "accelerator": "GPU",
    "colab": {
      "gpuType": "T4",
      "provenance": [],
      "toc_visible": true
    },
    "kernelspec": {
      "display_name": "Python 3",
      "name": "python3"
    },
    "language_info": {
      "codemirror_mode": {
        "name": "ipython",
        "version": 3
      },
      "file_extension": ".py",
      "mimetype": "text/x-python",
      "name": "python",
      "nbconvert_exporter": "python",
      "pygments_lexer": "ipython3",
      "version": "3.11.4"
    }
  },
  "nbformat": 4,
  "nbformat_minor": 0
}
