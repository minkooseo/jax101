{
 "cells": [
  {
   "cell_type": "code",
   "execution_count": 3,
   "metadata": {},
   "outputs": [],
   "source": [
    "import jax"
   ]
  },
  {
   "cell_type": "code",
   "execution_count": 4,
   "metadata": {},
   "outputs": [
    {
     "name": "stdout",
     "output_type": "stream",
     "text": [
      "6\n"
     ]
    }
   ],
   "source": [
    "@jax.jit\n",
    "def foo(f):\n",
    "    return f+3\n",
    "\n",
    "print(foo(3))"
   ]
  },
  {
   "cell_type": "code",
   "execution_count": 5,
   "metadata": {},
   "outputs": [
    {
     "data": {
      "text/plain": [
       "Array(3, dtype=int32, weak_type=True)"
      ]
     },
     "execution_count": 5,
     "metadata": {},
     "output_type": "execute_result"
    }
   ],
   "source": [
    "@jax.jit\n",
    "def bar(x):\n",
    "    return x['a'] + x['b']\n",
    "\n",
    "bar({'a': 1, 'b': 2})"
   ]
  },
  {
   "cell_type": "markdown",
   "metadata": {},
   "source": [
    "Function should be marked as static_argnums or names. Error, otherwise."
   ]
  },
  {
   "cell_type": "code",
   "execution_count": 6,
   "metadata": {},
   "outputs": [
    {
     "ename": "TypeError",
     "evalue": "Cannot interpret value of type <class 'function'> as an abstract array; it does not have a dtype attribute",
     "output_type": "error",
     "traceback": [
      "\u001b[0;31m---------------------------------------------------------------------------\u001b[0m",
      "\u001b[0;31mKeyError\u001b[0m                                  Traceback (most recent call last)",
      "File \u001b[0;32m~/miniconda3/envs/jax/lib/python3.11/site-packages/jax/_src/api_util.py:581\u001b[0m, in \u001b[0;36mshaped_abstractify\u001b[0;34m(x)\u001b[0m\n\u001b[1;32m    580\u001b[0m \u001b[39mtry\u001b[39;00m:\n\u001b[0;32m--> 581\u001b[0m   \u001b[39mreturn\u001b[39;00m _shaped_abstractify_handlers[\u001b[39mtype\u001b[39;49m(x)](x)\n\u001b[1;32m    582\u001b[0m \u001b[39mexcept\u001b[39;00m \u001b[39mKeyError\u001b[39;00m:\n",
      "\u001b[0;31mKeyError\u001b[0m: <class 'function'>",
      "\nDuring handling of the above exception, another exception occurred:\n",
      "\u001b[0;31mTypeError\u001b[0m                                 Traceback (most recent call last)",
      "Cell \u001b[0;32mIn[6], line 5\u001b[0m\n\u001b[1;32m      1\u001b[0m \u001b[39m@jax\u001b[39m\u001b[39m.\u001b[39mjit\n\u001b[1;32m      2\u001b[0m \u001b[39mdef\u001b[39;00m \u001b[39mbat\u001b[39m(x, f):\n\u001b[1;32m      3\u001b[0m     \u001b[39mreturn\u001b[39;00m f(x)\n\u001b[0;32m----> 5\u001b[0m bat(\u001b[39m1\u001b[39;49m, \u001b[39mlambda\u001b[39;49;00m x: x \u001b[39m+\u001b[39;49m \u001b[39m1\u001b[39;49m)\n",
      "    \u001b[0;31m[... skipping hidden 6 frame]\u001b[0m\n",
      "File \u001b[0;32m~/miniconda3/envs/jax/lib/python3.11/site-packages/jax/_src/api_util.py:572\u001b[0m, in \u001b[0;36m_shaped_abstractify_slow\u001b[0;34m(x)\u001b[0m\n\u001b[1;32m    570\u001b[0m   dtype \u001b[39m=\u001b[39m dtypes\u001b[39m.\u001b[39mcanonicalize_dtype(x\u001b[39m.\u001b[39mdtype, allow_extended_dtype\u001b[39m=\u001b[39m\u001b[39mTrue\u001b[39;00m)\n\u001b[1;32m    571\u001b[0m \u001b[39melse\u001b[39;00m:\n\u001b[0;32m--> 572\u001b[0m   \u001b[39mraise\u001b[39;00m \u001b[39mTypeError\u001b[39;00m(\n\u001b[1;32m    573\u001b[0m       \u001b[39mf\u001b[39m\u001b[39m\"\u001b[39m\u001b[39mCannot interpret value of type \u001b[39m\u001b[39m{\u001b[39;00m\u001b[39mtype\u001b[39m(x)\u001b[39m}\u001b[39;00m\u001b[39m as an abstract array; it \u001b[39m\u001b[39m\"\u001b[39m\n\u001b[1;32m    574\u001b[0m       \u001b[39m\"\u001b[39m\u001b[39mdoes not have a dtype attribute\u001b[39m\u001b[39m\"\u001b[39m)\n\u001b[1;32m    575\u001b[0m \u001b[39mreturn\u001b[39;00m core\u001b[39m.\u001b[39mShapedArray(np\u001b[39m.\u001b[39mshape(x), dtype, weak_type\u001b[39m=\u001b[39mweak_type,\n\u001b[1;32m    576\u001b[0m                         named_shape\u001b[39m=\u001b[39mnamed_shape)\n",
      "\u001b[0;31mTypeError\u001b[0m: Cannot interpret value of type <class 'function'> as an abstract array; it does not have a dtype attribute"
     ]
    }
   ],
   "source": [
    "@jax.jit\n",
    "def bat(x, f):\n",
    "    return f(x)\n",
    "\n",
    "bat(1, lambda x: x + 1)"
   ]
  },
  {
   "cell_type": "code",
   "execution_count": 7,
   "metadata": {},
   "outputs": [
    {
     "data": {
      "text/plain": [
       "Array(2, dtype=int32, weak_type=True)"
      ]
     },
     "execution_count": 7,
     "metadata": {},
     "output_type": "execute_result"
    }
   ],
   "source": [
    "from functools import partial\n",
    "\n",
    "@partial(jax.jit, static_argnames=[\"f\"])\n",
    "def bat(x, f):\n",
    "    return f(x)\n",
    "\n",
    "bat(1, lambda x: x + 1)"
   ]
  },
  {
   "cell_type": "markdown",
   "metadata": {},
   "source": [
    "list isn't hashable"
   ]
  },
  {
   "cell_type": "code",
   "execution_count": 8,
   "metadata": {},
   "outputs": [
    {
     "ename": "ValueError",
     "evalue": "Non-hashable static arguments are not supported. An error occurred during a call to 'foo' while trying to hash an object of type <class 'list'>, [1, 2, 3]. The error was:\nTypeError: unhashable type: 'list'\n",
     "output_type": "error",
     "traceback": [
      "\u001b[0;31m---------------------------------------------------------------------------\u001b[0m",
      "\u001b[0;31mValueError\u001b[0m                                Traceback (most recent call last)",
      "Cell \u001b[0;32mIn[8], line 5\u001b[0m\n\u001b[1;32m      1\u001b[0m \u001b[39m@partial\u001b[39m(jax\u001b[39m.\u001b[39mjit, static_argnames\u001b[39m=\u001b[39m(\u001b[39m'\u001b[39m\u001b[39mparam\u001b[39m\u001b[39m'\u001b[39m,))\n\u001b[1;32m      2\u001b[0m \u001b[39mdef\u001b[39;00m \u001b[39mfoo\u001b[39m(a, param):\n\u001b[1;32m      3\u001b[0m     \u001b[39mreturn\u001b[39;00m a \u001b[39m+\u001b[39m param[\u001b[39m0\u001b[39m]\n\u001b[0;32m----> 5\u001b[0m foo(\u001b[39m1\u001b[39;49m, [\u001b[39m1\u001b[39;49m, \u001b[39m2\u001b[39;49m, \u001b[39m3\u001b[39;49m])\n",
      "\u001b[0;31mValueError\u001b[0m: Non-hashable static arguments are not supported. An error occurred during a call to 'foo' while trying to hash an object of type <class 'list'>, [1, 2, 3]. The error was:\nTypeError: unhashable type: 'list'\n"
     ]
    }
   ],
   "source": [
    "@partial(jax.jit, static_argnames=('param',))\n",
    "def foo(a, param):\n",
    "    return a + param[0]\n",
    "\n",
    "foo(1, [1, 2, 3])"
   ]
  },
  {
   "cell_type": "markdown",
   "metadata": {},
   "source": [
    "Use tuple instead."
   ]
  },
  {
   "cell_type": "code",
   "execution_count": 9,
   "metadata": {},
   "outputs": [
    {
     "data": {
      "text/plain": [
       "Array(2, dtype=int32, weak_type=True)"
      ]
     },
     "execution_count": 9,
     "metadata": {},
     "output_type": "execute_result"
    }
   ],
   "source": [
    "foo(1, tuple([1, 2, 3]))"
   ]
  },
  {
   "cell_type": "code",
   "execution_count": null,
   "metadata": {},
   "outputs": [],
   "source": []
  }
 ],
 "metadata": {
  "kernelspec": {
   "display_name": "jax",
   "language": "python",
   "name": "python3"
  },
  "language_info": {
   "codemirror_mode": {
    "name": "ipython",
    "version": 3
   },
   "file_extension": ".py",
   "mimetype": "text/x-python",
   "name": "python",
   "nbconvert_exporter": "python",
   "pygments_lexer": "ipython3",
   "version": "3.11.4"
  },
  "orig_nbformat": 4
 },
 "nbformat": 4,
 "nbformat_minor": 2
}
