{
 "cells": [
  {
   "cell_type": "markdown",
   "metadata": {},
   "source": [
    "LSTM that returns sequences and stateful. If that's not necessary, just use [nn.scan](https://flax.readthedocs.io/en/latest/api_reference/flax.linen/_autosummary/flax.linen.scan.html). Also, see below for learable initialization."
   ]
  },
  {
   "cell_type": "code",
   "execution_count": 1,
   "metadata": {},
   "outputs": [],
   "source": [
    "import jax\n",
    "import jax.numpy as jnp\n",
    "import flax\n",
    "import flax.linen as nn\n",
    "from flax.training import train_state\n",
    "import logging\n",
    "import numpy as np\n",
    "import optax\n",
    "from typing import Any"
   ]
  },
  {
   "cell_type": "code",
   "execution_count": 2,
   "metadata": {},
   "outputs": [],
   "source": [
    "logging.basicConfig(level=logging.INFO)"
   ]
  },
  {
   "cell_type": "code",
   "execution_count": 3,
   "metadata": {},
   "outputs": [],
   "source": [
    "@flax.struct.dataclass\n",
    "class Carry:\n",
    "  carry1: Any\n",
    "  carry2: Any\n",
    "\n",
    "class TrainState(train_state.TrainState):\n",
    "  \"\"\"Carry around the carry for stateful LSTM.\"\"\"\n",
    "  carry: Carry"
   ]
  },
  {
   "cell_type": "code",
   "execution_count": 4,
   "metadata": {},
   "outputs": [],
   "source": [
    "class SequenceLSTMCell(nn.Module):\n",
    "    \"\"\"LSTMCell that can return sequences.\"\"\"\n",
    "\n",
    "    features: int\n",
    "    return_sequences: bool\n",
    "\n",
    "    @nn.compact\n",
    "    def __call__(self, carry, inputs):\n",
    "        sequence_length = inputs.shape[1]\n",
    "\n",
    "        outputs = []\n",
    "        for t in range(sequence_length):\n",
    "            carry, output = nn.LSTMCell(features=self.features)(carry, inputs[:, t, :])\n",
    "            if self.return_sequences:\n",
    "                outputs.append(output)\n",
    "\n",
    "        if self.return_sequences:\n",
    "            # stack along seq dim\n",
    "            return carry, jnp.stack(outputs, axis=1)\n",
    "        else:\n",
    "            return carry, output"
   ]
  },
  {
   "cell_type": "code",
   "execution_count": 5,
   "metadata": {},
   "outputs": [],
   "source": [
    "\n",
    "class Model(nn.Module):\n",
    "    features: list[int]\n",
    "    \n",
    "    def setup(self):\n",
    "        self.lstm1 = SequenceLSTMCell(features=self.features[0], \n",
    "                                      return_sequences=True, name=\"sequence_lstm\")\n",
    "        self.lstm2 = SequenceLSTMCell(features=self.features[1], \n",
    "                                      return_sequences=False, name=\"lstm\")\n",
    "        self.dense = nn.Dense(features=1, name=\"dense\")\n",
    "\n",
    "    def __call__(self, carry, x):\n",
    "        carry1, carry2 = carry.carry1, carry.carry2\n",
    "        carry1, x = self.lstm1(carry=carry1, inputs=x)\n",
    "        carry2, x = self.lstm2(carry=carry2, inputs=x)\n",
    "        x = self.dense(x)\n",
    "        return Carry(carry1, carry2), x\n",
    "    \n",
    "    def initialize_carry(self):\n",
    "        carry1 = (jnp.zeros((self.features[0],)), jnp.zeros((self.features[0],)))\n",
    "        carry2 = (jnp.zeros((self.features[0],)), jnp.zeros((self.features[0],)))\n",
    "        return Carry(carry1, carry2)\n",
    "    \n",
    "# If you don't need stateful LSTM:\n",
    "#\n",
    "# class Model(nn.Module):\n",
    "#     features: list[int]\n",
    "#   \n",
    "#     def setup(self):\n",
    "#         self.lstm1 = SequenceLSTMCell(features=self.features[0], \n",
    "#                                       return_sequences=True, name=\"sequence_lstm\")\n",
    "#         self.lstm2 = SequenceLSTMCell(features=self.features[1], \n",
    "#                                       return_sequences=False, name=\"lstm\")\n",
    "#         self.dense = nn.Dense(features=1, name=\"dense\")\n",
    "#\n",
    "#         # Initialize the carry as a learnable parameter.\n",
    "#         # These are now part of params that's learned just like W, b in Dense\n",
    "#         # are learned.\n",
    "#         self.carry1 = self.param('carry1_lstm1', nn.initializers.zeros, \n",
    "#                                  (self.features[0],))\n",
    "#         self.carry2 = self.param('carry2_lstm2', nn.initializers.zeros, \n",
    "#                                  (self.features[1],))\n",
    "#\n",
    "#     def __call__(self, x):\n",
    "#         carry1 = self.carry1\n",
    "#         carry2 = self.carry2\n",
    "#         carry1, x = self.lstm1(carry=carry1, inputs=x)\n",
    "#         carry2, x = self.lstm2(carry=carry2, inputs=x)\n",
    "#         x = self.dense(x)\n",
    "#         return x\n"
   ]
  },
  {
   "cell_type": "code",
   "execution_count": 6,
   "metadata": {},
   "outputs": [],
   "source": [
    "\n",
    "@jax.jit\n",
    "def apply_model(state, X, y):\n",
    "    \"\"\"Computes gradients, loss and accuracy for a single batch.\"\"\"\n",
    "    \n",
    "    def mean_squared_error(y, yhat):\n",
    "        return jnp.mean((y - yhat)**2)\n",
    "\n",
    "    def compute_loss_fn(params, carry):\n",
    "        carry, yhat = state.apply_fn({\"params\": params}, carry, X)\n",
    "        loss = mean_squared_error(y, yhat)\n",
    "        return loss, carry\n",
    "\n",
    "    carry, yhat = state.apply_fn({\"params\": state.params}, state.carry, X)\n",
    "    grad_fn = jax.value_and_grad(compute_loss_fn, has_aux=True)\n",
    "    (loss, carry), grads = grad_fn(state.params, state.carry)\n",
    "    return carry, loss, grads"
   ]
  },
  {
   "cell_type": "code",
   "execution_count": 7,
   "metadata": {},
   "outputs": [],
   "source": [
    "@jax.jit\n",
    "def update_model(state, grads):\n",
    "    return state.apply_gradients(grads=grads)"
   ]
  },
  {
   "cell_type": "code",
   "execution_count": 8,
   "metadata": {},
   "outputs": [],
   "source": [
    "def train_epoch(state, dataset_fn):\n",
    "    epoch_loss = []\n",
    "    for i, (X, y) in enumerate(dataset_fn()):\n",
    "        carry, loss, grads = apply_model(state, X, y)\n",
    "        state = update_model(state, grads)\n",
    "        state = state.replace(carry=carry)\n",
    "        epoch_loss.append(loss)\n",
    "    train_loss = np.mean(epoch_loss)\n",
    "    return state, train_loss"
   ]
  },
  {
   "cell_type": "code",
   "execution_count": 9,
   "metadata": {},
   "outputs": [],
   "source": [
    "batch_size = 10\n",
    "sequence_length = 3\n",
    "\n",
    "def datagen():\n",
    "    x = jnp.arange(300)\n",
    "    y = jnp.sin(x * 0.01)\n",
    "    y = y + jnp.roll(y, shift=1) - 2 * jnp.roll(y, shift=1)\n",
    "    y = y + jax.random.normal(jax.random.PRNGKey(0), y.shape) * 0.1\n",
    "    \n",
    "    for i in range(0, len(x) - sequence_length - batch_size + 1):\n",
    "        X_batch = [x[i + j:i + j + sequence_length][:, np.newaxis] for j in range(batch_size)]\n",
    "        y_batch = [y[i + j + sequence_length] for j in range(batch_size)]\n",
    "        yield jnp.stack(X_batch), jnp.stack(y_batch)[:, np.newaxis]\n"
   ]
  },
  {
   "cell_type": "code",
   "execution_count": 12,
   "metadata": {},
   "outputs": [
    {
     "name": "stderr",
     "output_type": "stream",
     "text": [
      "INFO:root:Epoch:    0, train_loss: 0.0100\n",
      "INFO:root:Epoch:    1, train_loss: 0.0096\n",
      "INFO:root:Epoch:    2, train_loss: 0.0095\n",
      "INFO:root:Epoch:    3, train_loss: 0.0094\n",
      "INFO:root:Epoch:    4, train_loss: 0.0094\n",
      "INFO:root:Epoch:    5, train_loss: 0.0094\n",
      "INFO:root:Epoch:    6, train_loss: 0.0093\n",
      "INFO:root:Epoch:    7, train_loss: 0.0093\n",
      "INFO:root:Epoch:    8, train_loss: 0.0093\n",
      "INFO:root:Epoch:    9, train_loss: 0.0093\n"
     ]
    }
   ],
   "source": [
    "\n",
    "model = Model(features=[5, 3])\n",
    "init_rng = jax.random.PRNGKey(42)\n",
    "carry = model.initialize_carry()\n",
    "\n",
    "params = model.init(init_rng,\n",
    "                    carry=carry, \n",
    "                    x=jnp.ones((batch_size, sequence_length, 1)))['params']\n",
    "\n",
    "state = TrainState.create(\n",
    "    apply_fn=model.apply,\n",
    "    params=params,\n",
    "    tx=optax.adam(learning_rate=1e-3),\n",
    "    carry=carry)\n",
    "\n",
    "for i in range(10):\n",
    "    state, train_loss = train_epoch(state, datagen)\n",
    "    # Across batches, carry is not kept.\n",
    "    state = state.replace(carry=model.initialize_carry())\n",
    "    logging.info(f\"Epoch: {i:4d}, train_loss: {train_loss:.4f}\")\n",
    "    "
   ]
  },
  {
   "cell_type": "code",
   "execution_count": null,
   "metadata": {},
   "outputs": [],
   "source": []
  }
 ],
 "metadata": {
  "kernelspec": {
   "display_name": "jax",
   "language": "python",
   "name": "python3"
  },
  "language_info": {
   "codemirror_mode": {
    "name": "ipython",
    "version": 3
   },
   "file_extension": ".py",
   "mimetype": "text/x-python",
   "name": "python",
   "nbconvert_exporter": "python",
   "pygments_lexer": "ipython3",
   "version": "3.11.4"
  },
  "orig_nbformat": 4
 },
 "nbformat": 4,
 "nbformat_minor": 2
}
