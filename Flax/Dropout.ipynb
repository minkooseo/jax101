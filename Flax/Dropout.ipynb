{
 "cells": [
  {
   "cell_type": "code",
   "execution_count": 97,
   "metadata": {},
   "outputs": [],
   "source": [
    "import jax\n",
    "from typing import Any\n",
    "from jax import numpy as jnp\n",
    "from flax import linen as nn\n",
    "import optax"
   ]
  },
  {
   "cell_type": "code",
   "execution_count": 98,
   "metadata": {},
   "outputs": [],
   "source": [
    "x_key, noise_key, params_key, dropout_key = jax.random.split(\n",
    "    jax.random.PRNGKey(0), 4)\n",
    "xs = jax.random.normal(x_key, (100, 1))\n",
    "noise = jax.random.normal(noise_key, (100, 1))\n",
    "W, b = 2, -1\n",
    "ys = xs + noise + b"
   ]
  },
  {
   "cell_type": "markdown",
   "metadata": {},
   "source": [
    "# Single Dropout"
   ]
  },
  {
   "cell_type": "code",
   "execution_count": 84,
   "metadata": {},
   "outputs": [],
   "source": [
    "class MyModel(nn.Module):\n",
    "    num_neurons: int\n",
    "    \n",
    "    @nn.compact\n",
    "    def __call__(self, x, training: bool):\n",
    "        x = nn.Dense(self.num_neurons)(x)\n",
    "        x = nn.Dropout(rate=0.5, deterministic=not training)(x)\n",
    "        return x\n",
    "        "
   ]
  },
  {
   "cell_type": "code",
   "execution_count": 85,
   "metadata": {},
   "outputs": [],
   "source": [
    "from flax.training import train_state\n",
    "\n",
    "class TrainState(train_state.TrainState):\n",
    "  key: jax.random.KeyArray"
   ]
  },
  {
   "cell_type": "code",
   "execution_count": 86,
   "metadata": {},
   "outputs": [],
   "source": [
    "@jax.jit\n",
    "def train_step(state: TrainState, xs, ys, dropout_key):\n",
    "    dropout_train_key = jax.random.fold_in(\n",
    "        key=dropout_key, data=state.step)\n",
    "    \n",
    "    def loss_fn(params):\n",
    "        yhats = state.apply_fn(\n",
    "            {'params': params}, xs, training=True, \n",
    "            rngs={'dropout': dropout_train_key})\n",
    "        loss = jnp.mean((ys - yhats) ** 2)\n",
    "        return loss\n",
    "    \n",
    "    grad_fn = jax.value_and_grad(loss_fn)\n",
    "    loss, grads = grad_fn(state.params)\n",
    "    state = state.apply_gradients(grads=grads)\n",
    "    return state, loss\n",
    "    "
   ]
  },
  {
   "cell_type": "code",
   "execution_count": 87,
   "metadata": {},
   "outputs": [
    {
     "name": "stdout",
     "output_type": "stream",
     "text": [
      "Iteration 0: 6.6528730392456055\n",
      "Iteration 100: 5.362330436706543\n",
      "Iteration 200: 4.739670753479004\n",
      "Iteration 300: 4.24291467666626\n",
      "Iteration 400: 4.084765911102295\n",
      "Iteration 500: 3.82289719581604\n",
      "Iteration 600: 3.664264440536499\n",
      "Iteration 700: 3.4753434658050537\n",
      "Iteration 800: 2.919456720352173\n",
      "Iteration 900: 2.8462142944335938\n",
      "Iteration 1000: 2.6043999195098877\n"
     ]
    }
   ],
   "source": [
    "model = MyModel(num_neurons=3)\n",
    "variables = model.init(params_key, xs, training=False)\n",
    "params = variables['params']\n",
    "\n",
    "state = TrainState.create(\n",
    "    apply_fn=model.apply,\n",
    "    params=params,\n",
    "    key=dropout_key,\n",
    "    tx=optax.adam(1e-3),\n",
    ")\n",
    "\n",
    "for i in range(1001):\n",
    "    state, loss = train_step(state, xs, ys, dropout_key)\n",
    "    if i % 100 == 0:\n",
    "        print(f'Iteration {i}: {loss}')\n",
    "    "
   ]
  },
  {
   "cell_type": "code",
   "execution_count": 88,
   "metadata": {},
   "outputs": [
    {
     "name": "stdout",
     "output_type": "stream",
     "text": [
      "[ 839183663 3740430601]\n"
     ]
    }
   ],
   "source": [
    "print(state.key)"
   ]
  },
  {
   "cell_type": "markdown",
   "metadata": {},
   "source": [
    "# Multiple Dropout"
   ]
  },
  {
   "cell_type": "code",
   "execution_count": 123,
   "metadata": {},
   "outputs": [],
   "source": [
    "class MyModelMultiple(nn.Module):\n",
    "    num_neurons: int\n",
    "    \n",
    "    @nn.compact\n",
    "    def __call__(self, x, training: bool, rngs):\n",
    "        rng1, rng2, rng3 = rngs['dropout']\n",
    "        x = nn.Dense(self.num_neurons)(x)\n",
    "        x = nn.Dropout(rate=0.5, deterministic=not training, rng=rng1)(x)\n",
    "        x = nn.Dropout(rate=0.5, deterministic=not training, rng=rng2)(x)\n",
    "        x = nn.Dropout(rate=0.5, deterministic=not training, rng=rng3)(x)\n",
    "        return x\n",
    "        "
   ]
  },
  {
   "cell_type": "code",
   "execution_count": 126,
   "metadata": {},
   "outputs": [],
   "source": [
    "@jax.jit\n",
    "def train_step(state: TrainState, xs, ys, dropout_key):\n",
    "    dropout_train_key = jax.random.fold_in(\n",
    "        key=dropout_key, data=state.step)\n",
    "    rngs = jax.random.split(dropout_train_key, 3)\n",
    "    \n",
    "    def loss_fn(params):\n",
    "        yhats = state.apply_fn(\n",
    "            {'params': params}, xs, training=True, \n",
    "            rngs={'dropout': rngs})\n",
    "        loss = jnp.mean((ys - yhats) ** 2)\n",
    "        return loss\n",
    "    \n",
    "    grad_fn = jax.value_and_grad(loss_fn)\n",
    "    loss, grads = grad_fn(state.params)\n",
    "    state = state.apply_gradients(grads=grads)\n",
    "    return state, loss\n",
    "    "
   ]
  },
  {
   "cell_type": "code",
   "execution_count": 129,
   "metadata": {},
   "outputs": [
    {
     "ename": "TypeError",
     "evalue": "Module.init() got multiple values for argument 'rngs'",
     "output_type": "error",
     "traceback": [
      "\u001b[0;31m---------------------------------------------------------------------------\u001b[0m",
      "\u001b[0;31mTypeError\u001b[0m                                 Traceback (most recent call last)",
      "Cell \u001b[0;32mIn[129], line 3\u001b[0m\n\u001b[1;32m      1\u001b[0m model \u001b[39m=\u001b[39m MyModelMultiple(num_neurons\u001b[39m=\u001b[39m\u001b[39m3\u001b[39m)\n\u001b[1;32m      2\u001b[0m rng1, rng2, rng3 \u001b[39m=\u001b[39m jax\u001b[39m.\u001b[39mrandom\u001b[39m.\u001b[39msplit(dropout_key, \u001b[39m3\u001b[39m)\n\u001b[0;32m----> 3\u001b[0m variables \u001b[39m=\u001b[39m model\u001b[39m.\u001b[39;49minit(params_key, xs, training\u001b[39m=\u001b[39;49m\u001b[39mFalse\u001b[39;49;00m,\n\u001b[1;32m      4\u001b[0m                        rngs\u001b[39m=\u001b[39;49m{\u001b[39m'\u001b[39;49m\u001b[39mdropout\u001b[39;49m\u001b[39m'\u001b[39;49m: (rng1, rng2, rng3)})\n\u001b[1;32m      5\u001b[0m params \u001b[39m=\u001b[39m variables[\u001b[39m'\u001b[39m\u001b[39mparams\u001b[39m\u001b[39m'\u001b[39m]\n\u001b[1;32m      7\u001b[0m state \u001b[39m=\u001b[39m TrainState\u001b[39m.\u001b[39mcreate(\n\u001b[1;32m      8\u001b[0m     apply_fn\u001b[39m=\u001b[39mmodel\u001b[39m.\u001b[39mapply,\n\u001b[1;32m      9\u001b[0m     params\u001b[39m=\u001b[39mparams,\n\u001b[1;32m     10\u001b[0m     key\u001b[39m=\u001b[39mdropout_key,\n\u001b[1;32m     11\u001b[0m     tx\u001b[39m=\u001b[39moptax\u001b[39m.\u001b[39madam(\u001b[39m1e-3\u001b[39m),\n\u001b[1;32m     12\u001b[0m )\n",
      "File \u001b[0;32m~/miniconda3/envs/jax/lib/python3.11/site-packages/jax/_src/traceback_util.py:166\u001b[0m, in \u001b[0;36mapi_boundary.<locals>.reraise_with_filtered_traceback\u001b[0;34m(*args, **kwargs)\u001b[0m\n\u001b[1;32m    164\u001b[0m __tracebackhide__ \u001b[39m=\u001b[39m \u001b[39mTrue\u001b[39;00m\n\u001b[1;32m    165\u001b[0m \u001b[39mtry\u001b[39;00m:\n\u001b[0;32m--> 166\u001b[0m   \u001b[39mreturn\u001b[39;00m fun(\u001b[39m*\u001b[39;49margs, \u001b[39m*\u001b[39;49m\u001b[39m*\u001b[39;49mkwargs)\n\u001b[1;32m    167\u001b[0m \u001b[39mexcept\u001b[39;00m \u001b[39mException\u001b[39;00m \u001b[39mas\u001b[39;00m e:\n\u001b[1;32m    168\u001b[0m   mode \u001b[39m=\u001b[39m _filtering_mode()\n",
      "\u001b[0;31mTypeError\u001b[0m: Module.init() got multiple values for argument 'rngs'"
     ]
    }
   ],
   "source": [
    "model = MyModelMultiple(num_neurons=3)\n",
    "rng1, rng2, rng3 = jax.random.split(dropout_key, 3)\n",
    "variables = model.init(params_key, xs, training=False,\n",
    "                       rngs={'dropout': (rng1, rng2, rng3)})\n",
    "params = variables['params']\n",
    "\n",
    "state = TrainState.create(\n",
    "    apply_fn=model.apply,\n",
    "    params=params,\n",
    "    key=dropout_key,\n",
    "    tx=optax.adam(1e-3),\n",
    ")\n",
    "\n",
    "for i in range(1001):\n",
    "    state, loss = train_step(state, xs, ys, dropout_key)\n",
    "    if i % 100 == 0:\n",
    "        print(f'Iteration {i}: {loss}')\n"
   ]
  },
  {
   "cell_type": "code",
   "execution_count": null,
   "metadata": {},
   "outputs": [],
   "source": []
  },
  {
   "cell_type": "code",
   "execution_count": null,
   "metadata": {},
   "outputs": [],
   "source": []
  }
 ],
 "metadata": {
  "kernelspec": {
   "display_name": "jax",
   "language": "python",
   "name": "python3"
  },
  "language_info": {
   "codemirror_mode": {
    "name": "ipython",
    "version": 3
   },
   "file_extension": ".py",
   "mimetype": "text/x-python",
   "name": "python",
   "nbconvert_exporter": "python",
   "pygments_lexer": "ipython3",
   "version": "3.11.4"
  },
  "orig_nbformat": 4
 },
 "nbformat": 4,
 "nbformat_minor": 2
}
