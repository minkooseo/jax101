{
 "cells": [
  {
   "cell_type": "markdown",
   "metadata": {},
   "source": [
    "# Setting up environments"
   ]
  },
  {
   "cell_type": "code",
   "execution_count": 135,
   "metadata": {},
   "outputs": [],
   "source": [
    "import jax\n",
    "from typing import Any, Callable, Sequence\n",
    "from jax import lax, random, numpy as jnp\n",
    "import flax\n",
    "from flax import linen as nn\n",
    "import optax"
   ]
  },
  {
   "cell_type": "markdown",
   "metadata": {},
   "source": [
    "# Linear regression with Flax"
   ]
  },
  {
   "cell_type": "code",
   "execution_count": 136,
   "metadata": {},
   "outputs": [],
   "source": [
    "model = nn.Dense(features=5)"
   ]
  },
  {
   "cell_type": "markdown",
   "metadata": {},
   "source": [
    "## Model parameters & initialization"
   ]
  },
  {
   "cell_type": "code",
   "execution_count": 137,
   "metadata": {},
   "outputs": [
    {
     "data": {
      "text/plain": [
       "{'params': {'bias': (5,), 'kernel': (10, 5)}}"
      ]
     },
     "execution_count": 137,
     "metadata": {},
     "output_type": "execute_result"
    }
   ],
   "source": [
    "key1, key2 = random.split(random.PRNGKey(0))\n",
    "x = random.normal(key1, (10, ))\n",
    "# model.init(PRNGKey, dummy data)\n",
    "params = model.init(key2, x)\n",
    "jax.tree_util.tree_map(lambda x: x.shape, params)"
   ]
  },
  {
   "cell_type": "code",
   "execution_count": 138,
   "metadata": {},
   "outputs": [
    {
     "name": "stdout",
     "output_type": "stream",
     "text": [
      "(5,)\n",
      "{'params': {'bias': (5,), 'kernel': (10, 5)}}\n"
     ]
    }
   ],
   "source": [
    "output, params = model.init_with_output(key2, x)\n",
    "print(output.shape)\n",
    "print(jax.tree_util.tree_map(lambda x: x.shape, params))"
   ]
  },
  {
   "cell_type": "code",
   "execution_count": 139,
   "metadata": {},
   "outputs": [
    {
     "data": {
      "text/plain": [
       "Array([-1.4309565 ,  0.68059814, -0.47063   , -0.00443757,  0.61720204],      dtype=float32)"
      ]
     },
     "execution_count": 139,
     "metadata": {},
     "output_type": "execute_result"
    }
   ],
   "source": [
    "model.apply(params, x)"
   ]
  },
  {
   "cell_type": "markdown",
   "metadata": {},
   "source": [
    "## Gradient descent"
   ]
  },
  {
   "cell_type": "code",
   "execution_count": 140,
   "metadata": {},
   "outputs": [
    {
     "name": "stdout",
     "output_type": "stream",
     "text": [
      "<class 'flax.core.frozen_dict.FrozenDict'>\n",
      "x shape: (20, 10) ; y shape: (20, 5)\n"
     ]
    }
   ],
   "source": [
    "n_samples = 20\n",
    "x_dim = 10\n",
    "y_dim = 5\n",
    "\n",
    "key = random.PRNGKey(0)\n",
    "k1, k2 = random.split(key)\n",
    "W = random.normal(k1, (x_dim, y_dim))\n",
    "b = random.normal(k2, (y_dim, ))\n",
    "true_params = flax.core.freeze({'params': {'bias': b, 'kernel': W}})\n",
    "print(type(true_params))\n",
    "\n",
    "key_sample, key_noise = random.split(k1)\n",
    "x_samples = random.normal(key_sample, (n_samples, x_dim))\n",
    "y_samples = (jnp.dot(x_samples, W) + b \n",
    "             + 0.1 * random.normal(key_noise, (n_samples, y_dim)))\n",
    "print('x shape:', x_samples.shape, '; y shape:', y_samples.shape)"
   ]
  },
  {
   "cell_type": "code",
   "execution_count": 141,
   "metadata": {},
   "outputs": [],
   "source": [
    "@jax.jit\n",
    "def mse(params, x_batched, y_batched):\n",
    "    def squared_error(x, y):\n",
    "        pred = model.apply(params, x)\n",
    "        return jnp.inner(y-pred, y-pred) / 2.0\n",
    "    return jnp.mean(jax.vmap(squared_error)(x_batched, y_batched))"
   ]
  },
  {
   "cell_type": "code",
   "execution_count": 142,
   "metadata": {},
   "outputs": [
    {
     "name": "stdout",
     "output_type": "stream",
     "text": [
      "Loss for \"true W, b: 0.023639798\n",
      "Loss step 0: 35.717175\n",
      "Loss step 10: 0.52654123\n",
      "Loss step 20: 0.11472414\n",
      "Loss step 30: 0.037997153\n",
      "Loss step 40: 0.019133301\n",
      "Loss step 50: 0.013885747\n",
      "Loss step 60: 0.012306851\n",
      "Loss step 70: 0.011808872\n",
      "Loss step 80: 0.011647595\n",
      "Loss step 90: 0.011594624\n",
      "Loss step 100: 0.011577098\n"
     ]
    }
   ],
   "source": [
    "learning_rate = 0.3\n",
    "print('Loss for \"true W, b:', mse(true_params, x_samples, y_samples))\n",
    "loss_grad_fn = jax.value_and_grad(mse)\n",
    "\n",
    "@jax.jit\n",
    "def update_params(params, learning_rate, grads):\n",
    "    params = jax.tree_util.tree_map(\n",
    "        lambda p, g: p - learning_rate * g, params, grads)\n",
    "    return params\n",
    "\n",
    "for i in range(101):\n",
    "    loss_val, grads = loss_grad_fn(params, x_samples, y_samples)\n",
    "    params = update_params(params, learning_rate, grads)\n",
    "    if i % 10 == 0:\n",
    "        print(f'Loss step {i}:', loss_val)"
   ]
  },
  {
   "cell_type": "markdown",
   "metadata": {},
   "source": [
    "## Optimizing with Optax"
   ]
  },
  {
   "cell_type": "code",
   "execution_count": 143,
   "metadata": {},
   "outputs": [
    {
     "name": "stdout",
     "output_type": "stream",
     "text": [
      "Loss step 0: 35.479736328125\n",
      "Loss step 10: 4.361007213592529\n",
      "Loss step 20: 1.258549690246582\n",
      "Loss step 30: 0.4513617157936096\n",
      "Loss step 40: 0.15732677280902863\n",
      "Loss step 50: 0.0579988956451416\n",
      "Loss step 60: 0.02834184840321541\n",
      "Loss step 70: 0.017301736399531364\n",
      "Loss step 80: 0.014532424509525299\n",
      "Loss step 90: 0.01267541665583849\n",
      "Loss step 100: 0.011985315941274166\n"
     ]
    }
   ],
   "source": [
    "import optax\n",
    "learning_rate = 0.3\n",
    "tx = optax.adam(learning_rate=learning_rate)\n",
    "opt_state = tx.init(params)\n",
    "loss_grad_fn = jax.value_and_grad(mse)\n",
    "params = model.init(random.PRNGKey(0), x_samples)\n",
    "\n",
    "for i in range(101):\n",
    "    loss_val, grads = loss_grad_fn(params, x_samples, y_samples)\n",
    "    updates, opt_state = tx.update(grads, opt_state)\n",
    "    params = optax.apply_updates(params, updates)\n",
    "    if i % 10 == 0:\n",
    "        print(f'Loss step {i}: {loss_val}')"
   ]
  },
  {
   "cell_type": "markdown",
   "metadata": {},
   "source": [
    "## Serializing the result"
   ]
  },
  {
   "cell_type": "code",
   "execution_count": 144,
   "metadata": {},
   "outputs": [
    {
     "name": "stdout",
     "output_type": "stream",
     "text": [
      "Bytes output: b'\\x81\\xa6params\\x82\\xa4bias\\xc7!\\x01\\x93\\x91\\x05\\xa7float32\\xc4\\x14\\xd44\\xb9\\xbf\\x82\\xa5\\x01\\xc0\\x1f{\\x05@=[\\x9c?\\xb6E\\x80\\xbf\\xa6kernel\\xc7\\xd6\\x01\\x93\\x92\\n\\x05\\xa7float32\\xc4\\xc8I\\x8f\\x80?\\x88\\x82=>\\n\\xc71=p\\xdam\\xbf4j\\xb3>\\x86\\xcc\\xdc?\\xa9Y~?\\xdd\\xd0\\x95?W\\xc2\\x8d?^~\\xd9\\xbd\\x90\\xad\\x98\\xbfT8\\x92>\\x1f\\xa9\\xb5?n\\x9e\\xfd=\\x16\\x1d\\xa8\\xbf\\x86{\\x98\\xbf\\xf5\\x88?\\xbe\\x8e\\\\$=\\x8cg\\xa9?l\\x1f\\xad=X\\xa5\\x0c>\\x1f\\xfd\\xae?\\xaf\\xd6\\xa8\\xbfe\\xd4\\t?ax\\x0f\\xc0\\x96\\x8c\\x0f?\\xc8\\xd0P?\\x96:\\xa6>\\x0f\\xc7\\t?\\xc8Qg?F\\xcf\\xc3\\xbeT\\t\\xdf?)\\x08\\x8a?\\xfd\\x10\\x01\\xbf\\xf6\\x14m?\\xbe\\xa1w?\\xe8)\\xa8\\xbfr)\\xab>&NP?\\xef\\xbe\\x99\\xbfI=\\x82?\\xf8-\\x1f\\xbf\\xad\\\\\\x89??n\\xeb\\xbf\\xe4\\x1c\\xeb\\xbe\\x92T&\\xbf\\xa40\\xec>\\x99j\\x91\\xbf\\xda?/\\xbfR\\xc2)>'\n",
      "Dict output: {'params': {'bias': Array([-1.4469247, -2.0257268,  2.0856397,  1.2215344, -1.0021274],      dtype=float32), 'kernel': Array([[ 1.0043727 ,  0.18506825,  0.04340271, -0.92911434,  0.35041964],\n",
      "       [ 1.7249916 ,  0.9935556 ,  1.1704365 ,  1.1074933 , -0.10619806],\n",
      "       [-1.1927967 ,  0.285586  ,  1.4192237 ,  0.12383734, -1.3133876 ],\n",
      "       [-1.1912696 , -0.18704589,  0.04012733,  1.3234725 ,  0.08453259],\n",
      "       [ 0.13734949,  1.3670996 , -1.3190516 ,  0.53839713, -2.2417223 ],\n",
      "       [ 0.5607389 ,  0.81568575,  0.32466573,  0.53819364,  0.90359163],\n",
      "       [-0.38244075,  1.7424722 ,  1.078374  , -0.5041655 ,  0.9261011 ],\n",
      "       [ 0.96731174, -1.3137789 ,  0.33430058,  0.81369245, -1.2011393 ],\n",
      "       [ 1.0174953 , -0.6217952 ,  1.0731407 , -1.839302  , -0.4592048 ],\n",
      "       [-0.64972794,  0.4613086 , -1.1360656 , -0.68456805,  0.16578034]],      dtype=float32)}}\n"
     ]
    }
   ],
   "source": [
    "from flax import serialization\n",
    "bytes_output = serialization.to_bytes(params)\n",
    "dict_output = serialization.to_state_dict(params)\n",
    "print('Bytes output:', bytes_output)\n",
    "print('Dict output:', dict_output)"
   ]
  },
  {
   "cell_type": "code",
   "execution_count": 145,
   "metadata": {},
   "outputs": [
    {
     "data": {
      "text/plain": [
       "{'params': {'bias': array([-1.4469247, -2.0257268,  2.0856397,  1.2215344, -1.0021274],\n",
       "        dtype=float32),\n",
       "  'kernel': array([[ 1.0043727 ,  0.18506825,  0.04340271, -0.92911434,  0.35041964],\n",
       "         [ 1.7249916 ,  0.9935556 ,  1.1704365 ,  1.1074933 , -0.10619806],\n",
       "         [-1.1927967 ,  0.285586  ,  1.4192237 ,  0.12383734, -1.3133876 ],\n",
       "         [-1.1912696 , -0.18704589,  0.04012733,  1.3234725 ,  0.08453259],\n",
       "         [ 0.13734949,  1.3670996 , -1.3190516 ,  0.53839713, -2.2417223 ],\n",
       "         [ 0.5607389 ,  0.81568575,  0.32466573,  0.53819364,  0.90359163],\n",
       "         [-0.38244075,  1.7424722 ,  1.078374  , -0.5041655 ,  0.9261011 ],\n",
       "         [ 0.96731174, -1.3137789 ,  0.33430058,  0.81369245, -1.2011393 ],\n",
       "         [ 1.0174953 , -0.6217952 ,  1.0731407 , -1.839302  , -0.4592048 ],\n",
       "         [-0.64972794,  0.4613086 , -1.1360656 , -0.68456805,  0.16578034]],\n",
       "        dtype=float32)}}"
      ]
     },
     "execution_count": 145,
     "metadata": {},
     "output_type": "execute_result"
    }
   ],
   "source": [
    "# params here is a template\n",
    "serialization.from_bytes(params, bytes_output)"
   ]
  },
  {
   "cell_type": "markdown",
   "metadata": {},
   "source": [
    "# Defining your own model"
   ]
  },
  {
   "cell_type": "markdown",
   "metadata": {},
   "source": [
    "## Module basics"
   ]
  },
  {
   "cell_type": "code",
   "execution_count": 146,
   "metadata": {},
   "outputs": [
    {
     "name": "stdout",
     "output_type": "stream",
     "text": [
      "Initialized parameter shape:\n",
      " {'params': {'layers_0': {'bias': (3,), 'kernel': (4, 3)}, 'layers_1': {'bias': (4,), 'kernel': (3, 4)}, 'layers_2': {'bias': (5,), 'kernel': (4, 5)}}}\n",
      "Output:\n",
      " (4, 5)\n"
     ]
    }
   ],
   "source": [
    "# nn.Module is dataclass\n",
    "class ExplicitMLP(nn.Module):\n",
    "    features: Sequence[int]\n",
    "    \n",
    "    # called at the end of __post_init__\n",
    "    def setup(self):\n",
    "        self.layers = [nn.Dense(feat) for feat in self.features]\n",
    "        \n",
    "    def __call__(self, inputs):\n",
    "        x = inputs\n",
    "        for i, lyr in enumerate(self.layers):\n",
    "            x = lyr(x)\n",
    "            if i != len(self.layers) - 1:\n",
    "                x = nn.relu(x)\n",
    "        return x\n",
    "    \n",
    "\n",
    "key1, key2 = random.split(random.PRNGKey(0), 2)\n",
    "x = random.uniform(key1, (4, 4))\n",
    "\n",
    "model = ExplicitMLP(features=[3, 4, 5])\n",
    "params = model.init(key2, x)\n",
    "y = model.apply(params, x)\n",
    "\n",
    "print('Initialized parameter shape:\\n', jax.tree_util.tree_map(jnp.shape, params))\n",
    "print('Output:\\n', y.shape)"
   ]
  },
  {
   "cell_type": "code",
   "execution_count": 147,
   "metadata": {},
   "outputs": [
    {
     "name": "stdout",
     "output_type": "stream",
     "text": [
      "Initialized parameters:\n",
      " {'params': {'layer_0': {'bias': (3,), 'kernel': (4, 3)}, 'layer_1': {'bias': (4,), 'kernel': (3, 4)}, 'layer_2': {'bias': (5,), 'kernel': (4, 5)}}}\n",
      "Output shape:\n",
      " (4, 5)\n"
     ]
    }
   ],
   "source": [
    "class SimpleMLP(nn.Module):\n",
    "    features: Sequence[int]\n",
    "    \n",
    "    @nn.compact\n",
    "    def __call__(self, inputs):\n",
    "        x = inputs\n",
    "        for i, feat in enumerate(self.features):\n",
    "            x = nn.Dense(feat, name=f\"layer_{i}\")(x)\n",
    "            if i != len(self.features) - 1:\n",
    "                x = nn.relu(x)\n",
    "        return x\n",
    "        \n",
    "key1, key2 = jax.random.split(jax.random.PRNGKey(0), 2)\n",
    "x = jax.random.normal(key1, (4, 4))\n",
    "\n",
    "model = SimpleMLP(features=[3, 4, 5])\n",
    "params = model.init(key2, x)\n",
    "y = model.apply(params, x)\n",
    "\n",
    "print('Initialized parameters:\\n', jax.tree_util.tree_map(jnp.shape, params))\n",
    "print('Output shape:\\n', y.shape)\n"
   ]
  },
  {
   "cell_type": "markdown",
   "metadata": {},
   "source": [
    "## Module parameters"
   ]
  },
  {
   "cell_type": "code",
   "execution_count": 148,
   "metadata": {},
   "outputs": [
    {
     "name": "stdout",
     "output_type": "stream",
     "text": [
      "Initialized parameters:\n",
      " {'params': {'bias': (3,), 'kernel': (4, 3)}}\n",
      "Output shape:\n",
      " (4, 3)\n"
     ]
    }
   ],
   "source": [
    "class SimpleDense(nn.Module):\n",
    "    features: int\n",
    "    kernel_init: Callable = nn.initializers.lecun_normal()\n",
    "    bias_init: Callable = nn.initializers.zeros_init()\n",
    "    \n",
    "    @nn.compact\n",
    "    def __call__(self, inputs):\n",
    "        # Need input.shape to be in setup().\n",
    "        kernel = self.param('kernel',\n",
    "                            # init_fn\n",
    "                            self.kernel_init,\n",
    "                            # init_args to init_fn\n",
    "                            (inputs.shape[-1], self.features))\n",
    "        y = lax.dot_general(\n",
    "            inputs, kernel,\n",
    "            # ((lhs_contracting_dims, rhs_contracting_dims),\n",
    "            #  (lhs_batch_dims, rhs_batch_dims))\n",
    "            (((inputs.ndim - 1,), (0,)), ((), ())))\n",
    "        bias = self.param('bias', self.bias_init, (self.features,))\n",
    "        return y + bias\n",
    "    \n",
    "key1, key2 = random.split(random.PRNGKey(0), 2)\n",
    "x = random.uniform(key1, (4, 4))\n",
    "\n",
    "model = SimpleDense(features=3)\n",
    "params = model.init(key2, x)\n",
    "y = model.apply(params, x)\n",
    "\n",
    "print('Initialized parameters:\\n', jax.tree_map(jnp.shape, params))\n",
    "print('Output shape:\\n', y.shape)"
   ]
  },
  {
   "cell_type": "markdown",
   "metadata": {},
   "source": [
    "## Variables and collection of variables"
   ]
  },
  {
   "cell_type": "code",
   "execution_count": 149,
   "metadata": {},
   "outputs": [
    {
     "name": "stdout",
     "output_type": "stream",
     "text": [
      "Initialized variables:\n",
      " {'batch_stats': {'mean': Array([0., 0., 0., 0., 0.], dtype=float32)}, 'params': {'bias': Array([0., 0., 0., 0., 0.], dtype=float32)}}\n",
      "Updated state:\n",
      " {'batch_stats': {'mean': Array([[0.01, 0.01, 0.01, 0.01, 0.01]], dtype=float32)}}\n"
     ]
    }
   ],
   "source": [
    "class BiasAdderWithRunningMean(nn.Module):\n",
    "    decay: float = 0.99\n",
    "    \n",
    "    @nn.compact\n",
    "    def __call__(self, x):\n",
    "        is_initialized = self.has_variable('batch_stats', 'mean')\n",
    "        ra_mean = self.variable('batch_stats', 'mean',\n",
    "                                lambda s: jnp.zeros(s), x.shape[1:])\n",
    "        \n",
    "        # This probably isn't needed. \n",
    "        # https://github.com/google/flax/issues/3260\n",
    "        # mean = ra_mean.value  # Either get the value or trigger init.\n",
    "        \n",
    "        # bias is a param while ra_mean is a variable.\n",
    "        bias = self.param('bias', lambda rng, shape: jnp.zeros(shape), x.shape[1:])\n",
    "        if is_initialized:\n",
    "            # Without keepdims, we get (5,) instead of (1,5). Not sure if it \n",
    "            # matters though.\n",
    "            ra_mean.value = self.decay * ra_mean.value + (1.0 - self.decay) * jnp.mean(x, axis=0, keepdims=True)\n",
    "        return x - ra_mean.value + bias\n",
    "    \n",
    "key1, key2 = random.split(random.PRNGKey(0), 2)\n",
    "x = jnp.ones((10,5))\n",
    "model = BiasAdderWithRunningMean()\n",
    "variables = model.init(key1, x)\n",
    "print('Initialized variables:\\n', variables)\n",
    "y, updated_state = model.apply(variables, x, mutable=['batch_stats'])\n",
    "print('Updated state:\\n', updated_state)\n",
    "    "
   ]
  },
  {
   "cell_type": "markdown",
   "metadata": {},
   "source": [
    "How we update variables and get the new params"
   ]
  },
  {
   "cell_type": "code",
   "execution_count": 150,
   "metadata": {},
   "outputs": [
    {
     "name": "stdout",
     "output_type": "stream",
     "text": [
      "Initial variables:\n",
      "{'batch_stats': {'mean': Array([0., 0., 0., 0., 0.], dtype=float32)}, 'params': {'bias': Array([0., 0., 0., 0., 0.], dtype=float32)}}\n",
      "Updated state:\n",
      "{'batch_stats': {'mean': Array([[0.01, 0.01, 0.01, 0.01, 0.01]], dtype=float32)}}\n",
      "Updated variables:\n",
      "FrozenDict({\n",
      "    params: {\n",
      "        bias: Array([0., 0., 0., 0., 0.], dtype=float32),\n",
      "    },\n",
      "    batch_stats: {\n",
      "        mean: Array([[0.01, 0.01, 0.01, 0.01, 0.01]], dtype=float32),\n",
      "    },\n",
      "})\n",
      "---------------\n",
      "Updated state:\n",
      "{'batch_stats': {'mean': Array([[0.0299, 0.0299, 0.0299, 0.0299, 0.0299]], dtype=float32)}}\n",
      "Updated variables:\n",
      "FrozenDict({\n",
      "    params: {\n",
      "        bias: Array([0., 0., 0., 0., 0.], dtype=float32),\n",
      "    },\n",
      "    batch_stats: {\n",
      "        mean: Array([[0.0299, 0.0299, 0.0299, 0.0299, 0.0299]], dtype=float32),\n",
      "    },\n",
      "})\n",
      "---------------\n",
      "Updated state:\n",
      "{'batch_stats': {'mean': Array([[0.059601, 0.059601, 0.059601, 0.059601, 0.059601]], dtype=float32)}}\n",
      "Updated variables:\n",
      "FrozenDict({\n",
      "    params: {\n",
      "        bias: Array([0., 0., 0., 0., 0.], dtype=float32),\n",
      "    },\n",
      "    batch_stats: {\n",
      "        mean: Array([[0.059601, 0.059601, 0.059601, 0.059601, 0.059601]], dtype=float32),\n",
      "    },\n",
      "})\n",
      "---------------\n"
     ]
    }
   ],
   "source": [
    "print('Initial variables:')\n",
    "print(variables)\n",
    "for val in [1., 2., 3.]:\n",
    "    x = val * jnp.ones((10, 5))\n",
    "    # model.apply() needs params and variables as input, but it returns\n",
    "    # updated variables only. When there were no variables, model.apply()\n",
    "    # returns y only, e.g., y = model.apply(params, x)\n",
    "    y, updated_state = model.apply(variables, x, mutable=['batch_stats'])\n",
    "    # Merge params and updated_state into a new variables dict.\n",
    "    old_state, params = flax.core.pop(variables, 'params')\n",
    "    variables = flax.core.freeze({'params': params, **updated_state})\n",
    "    print('Updated state:')\n",
    "    print(updated_state)\n",
    "    print('Updated variables:')\n",
    "    print(variables)\n",
    "    print('---------------')"
   ]
  },
  {
   "cell_type": "markdown",
   "metadata": {},
   "source": [
    "When there's an optimizer"
   ]
  },
  {
   "cell_type": "code",
   "execution_count": 151,
   "metadata": {},
   "outputs": [
    {
     "name": "stdout",
     "output_type": "stream",
     "text": [
      "Loss: 0.0049999906\n",
      "Updated state:\n",
      " {'batch_stats': {'mean': Array([[0.01, 0.01, 0.01, 0.01, 0.01]], dtype=float32)}}\n",
      "Params:\n",
      " {'bias': Array([0.004, 0.004, 0.004, 0.004, 0.004], dtype=float32)}\n",
      "-------------------------\n",
      "Loss: 0.012640525\n",
      "Updated state:\n",
      " {'batch_stats': {'mean': Array([[0.0199, 0.0199, 0.0199, 0.0199, 0.0199]], dtype=float32)}}\n",
      "Params:\n",
      " {'bias': Array([0.01036, 0.01036, 0.01036, 0.01036, 0.01036], dtype=float32)}\n",
      "-------------------------\n",
      "Loss: 0.0187037\n",
      "Updated state:\n",
      " {'batch_stats': {'mean': Array([[0.029701, 0.029701, 0.029701, 0.029701, 0.029701]], dtype=float32)}}\n",
      "Params:\n",
      " {'bias': Array([0.0180964, 0.0180964, 0.0180964, 0.0180964, 0.0180964], dtype=float32)}\n",
      "-------------------------\n"
     ]
    }
   ],
   "source": [
    "from functools import partial\n",
    "\n",
    "@partial(jax.jit, static_argnums=(0, 1))\n",
    "def update_step(tx, apply_fn, x, opt_state, params, state):\n",
    "    \n",
    "    def loss(params):\n",
    "        y, updated_state = apply_fn({'params': params, **state},\n",
    "                                    x, mutable=list(state.keys()))\n",
    "        l = ((x - y) ** 2).sum()\n",
    "        return l, updated_state\n",
    "    \n",
    "    (l, state), grads = jax.value_and_grad(loss, has_aux=True)(params)\n",
    "    updates, opt_state = tx.update(grads, opt_state)\n",
    "    params = optax.apply_updates(params, updates)\n",
    "    return opt_state, params, state, l\n",
    "\n",
    "x = jnp.ones((10, 5))\n",
    "variables = model.init(random.PRNGKey(0), x)\n",
    "state, params = flax.core.pop(variables, 'params')\n",
    "del variables\n",
    "tx = optax.sgd(learning_rate=0.02)\n",
    "opt_state = tx.init(params)\n",
    "\n",
    "for _ in range(3):\n",
    "    opt_state, params, state, loss = update_step(\n",
    "        tx, model.apply, x, opt_state, params, state)\n",
    "    print('Loss:', loss)\n",
    "    print('Updated state:\\n', state)\n",
    "    print('Params:\\n', params)\n",
    "    print('-------------------------')"
   ]
  },
  {
   "cell_type": "markdown",
   "metadata": {},
   "source": [
    "## TrainState"
   ]
  },
  {
   "cell_type": "markdown",
   "metadata": {},
   "source": [
    "See [TrainState](https://flax.readthedocs.io/en/latest/_modules/flax/training/train_state.html#TrainState) use below for encapsulating params and optax."
   ]
  },
  {
   "cell_type": "code",
   "execution_count": 152,
   "metadata": {},
   "outputs": [
    {
     "name": "stdout",
     "output_type": "stream",
     "text": [
      "Loss @ 0: 4.21584\n",
      "Loss @ 100: 1.5112355\n",
      "Loss @ 200: 1.2084138\n",
      "Loss @ 300: 1.1742883\n",
      "Loss @ 400: 1.1704139\n",
      "Loss @ 500: 1.16997\n",
      "Loss @ 600: 1.1699189\n",
      "Loss @ 700: 1.1699128\n",
      "Loss @ 800: 1.1699121\n",
      "Loss @ 900: 1.1699121\n",
      "Loss @ 1000: 1.1699121\n"
     ]
    }
   ],
   "source": [
    "x_key, noise_key, model_key = jax.random.split(jax.random.PRNGKey(0), 3)\n",
    "xs = jax.random.normal(x_key, (100, 1))\n",
    "noise = jax.random.normal(noise_key, (100, 1))\n",
    "W, b = 2, -1\n",
    "ys = xs + noise + b\n",
    "\n",
    "@jax.jit\n",
    "def apply_model(state, xs, ys):\n",
    "\n",
    "    def loss_fn(params, xs, ys):\n",
    "        # Can't use {'params': state.params} here because it then\n",
    "        # is not functional.\n",
    "        yhats = state.apply_fn({'params': params}, xs)\n",
    "        loss = jnp.mean((ys - yhats) ** 2)\n",
    "        return loss\n",
    "\n",
    "    grad_fn = jax.value_and_grad(loss_fn)\n",
    "    loss, grads = grad_fn(state.params, xs, ys)\n",
    "    return loss, grads\n",
    "\n",
    "@jax.jit\n",
    "def update_model(state, grads):\n",
    "    return state.apply_gradients(grads=grads)\n",
    "\n",
    "class SingleLayerDNN(nn.Module):\n",
    "    @nn.compact\n",
    "    def __call__(self, x):\n",
    "        x = nn.Dense(1)(x)\n",
    "        return x\n",
    "    \n",
    "model = SingleLayerDNN()\n",
    "params = model.init(model_key, xs)['params']\n",
    "\n",
    "state = TrainState.create(apply_fn=model.apply, params=params, tx=optax.sgd(0.005))\n",
    "for i in range(1001):\n",
    "    loss, grads = apply_model(state, xs, ys)\n",
    "    state = update_model(state, grads)\n",
    "    if i % 100 == 0:\n",
    "        print(f'Loss @ {i}:', loss)"
   ]
  },
  {
   "cell_type": "code",
   "execution_count": 153,
   "metadata": {},
   "outputs": [
    {
     "data": {
      "image/png": "[encoded data removed]",
      "text/plain": [
       "<Figure size 640x480 with 1 Axes>"
      ]
     },
     "metadata": {},
     "output_type": "display_data"
    }
   ],
   "source": [
    "import matplotlib.pyplot as plt\n",
    "\n",
    "plt.scatter(xs, ys)\n",
    "yhats = state.apply_fn({'params': state.params}, xs)\n",
    "plt.scatter(xs, yhats, c='r')\n",
    "plt.show()"
   ]
  },
  {
   "cell_type": "code",
   "execution_count": null,
   "metadata": {},
   "outputs": [],
   "source": []
  }
 ],
 "metadata": {
  "kernelspec": {
   "display_name": "jax",
   "language": "python",
   "name": "python3"
  },
  "language_info": {
   "codemirror_mode": {
    "name": "ipython",
    "version": 3
   },
   "file_extension": ".py",
   "mimetype": "text/x-python",
   "name": "python",
   "nbconvert_exporter": "python",
   "pygments_lexer": "ipython3",
   "version": "3.11.4"
  },
  "orig_nbformat": 4
 },
 "nbformat": 4,
 "nbformat_minor": 2
}
