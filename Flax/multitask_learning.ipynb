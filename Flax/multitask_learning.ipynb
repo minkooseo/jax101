{
 "cells": [
  {
   "cell_type": "markdown",
   "metadata": {},
   "source": [
    "# Multitask learning\n",
    "   \n",
    "Shared layers followed by per target layers"
   ]
  },
  {
   "cell_type": "code",
   "execution_count": 1,
   "metadata": {},
   "outputs": [],
   "source": [
    "import jax\n",
    "import jax.numpy as jnp\n",
    "import flax.linen as nn\n",
    "from flax.training import train_state\n",
    "import logging\n",
    "import numpy as np\n",
    "import optax\n",
    "\n",
    "logging.basicConfig(level=logging.INFO)"
   ]
  },
  {
   "cell_type": "markdown",
   "metadata": {},
   "source": [
    "Can grad compute multiple graidents at once? No."
   ]
  },
  {
   "cell_type": "code",
   "execution_count": 2,
   "metadata": {},
   "outputs": [],
   "source": [
    "def f(x):\n",
    "    return x * 3, x ** 2\n",
    "\n",
    "grad = jax.grad(f)\n",
    "# Error.\n",
    "# print(grad(3.0))"
   ]
  },
  {
   "cell_type": "code",
   "execution_count": 3,
   "metadata": {},
   "outputs": [],
   "source": [
    "class Model(nn.Module):\n",
    "    \n",
    "    @nn.compact\n",
    "    def __call__(self, x):\n",
    "        x = nn.Dense(10)(x)\n",
    "        x = nn.Dense(5)(x)\n",
    "        x1 = nn.Dense(3)(x)\n",
    "        x1 = nn.Dense(1)(x1)\n",
    "        x2 = nn.Dense(3)(x)\n",
    "        x2 = nn.Dense(1)(x2)\n",
    "        return x1, x2"
   ]
  },
  {
   "cell_type": "code",
   "execution_count": 4,
   "metadata": {},
   "outputs": [],
   "source": [
    "@jax.jit\n",
    "def apply_model(state, X, y):\n",
    "    \"\"\"Computes gradients, loss and accuracy for a single batch.\"\"\"\n",
    "    \n",
    "    def mean_squared_error(y, yhat):\n",
    "        return jnp.mean((y - yhat)**2)\n",
    "\n",
    "    def compute_loss_fn(params):\n",
    "        yhats = state.apply_fn({\"params\": params}, X)\n",
    "        # Get the average of losses. You could consdier giving weights to each task.\n",
    "        loss = jnp.stack([mean_squared_error(y, yh) for yh in yhats]).sum()\n",
    "        return loss\n",
    "\n",
    "    grad_fn = jax.value_and_grad(compute_loss_fn)\n",
    "    loss, grads = grad_fn(state.params)\n",
    "    return loss, grads"
   ]
  },
  {
   "cell_type": "code",
   "execution_count": 5,
   "metadata": {},
   "outputs": [],
   "source": [
    "@jax.jit\n",
    "def update_model(state, grads):\n",
    "    return state.apply_gradients(grads=grads)"
   ]
  },
  {
   "cell_type": "code",
   "execution_count": 6,
   "metadata": {},
   "outputs": [],
   "source": [
    "def train_epoch(state, dataset_fn):\n",
    "    epoch_loss = []\n",
    "    for X, y in dataset_fn():\n",
    "        loss, grads = apply_model(state, X, y)\n",
    "        state = update_model(state, grads)\n",
    "        epoch_loss.append(loss)\n",
    "    train_loss = np.mean(epoch_loss)\n",
    "    return state, train_loss"
   ]
  },
  {
   "cell_type": "code",
   "execution_count": 7,
   "metadata": {},
   "outputs": [],
   "source": [
    "batch_size = 10\n",
    "\n",
    "def f(x):\n",
    "    return x * 3\n",
    "\n",
    "def g(x):\n",
    "    return x * 7 + 8\n",
    "\n",
    "def datagen():\n",
    "    x = jnp.arange(300)\n",
    "    y = jnp.array([[f(x), g(x)] for x in x])\n",
    "    y = jax.random.normal(jax.random.PRNGKey(0), shape=y.shape)\n",
    "    \n",
    "    for i in range(0, min(len(x), len(x) - batch_size), batch_size):\n",
    "        yield x[i:i+batch_size][:, np.newaxis], y[i:i+batch_size]\n"
   ]
  },
  {
   "cell_type": "code",
   "execution_count": 8,
   "metadata": {},
   "outputs": [
    {
     "name": "stderr",
     "output_type": "stream",
     "text": [
      "INFO:jax._src.xla_bridge:Unable to initialize backend 'cuda': module 'jaxlib.xla_extension' has no attribute 'GpuAllocatorConfig'\n",
      "INFO:jax._src.xla_bridge:Unable to initialize backend 'rocm': module 'jaxlib.xla_extension' has no attribute 'GpuAllocatorConfig'\n",
      "INFO:jax._src.xla_bridge:Unable to initialize backend 'tpu': module 'jaxlib.xla_extension' has no attribute 'get_tpu_client'\n",
      "INFO:root:Epoch:    0, train_loss: 4501.4688\n",
      "INFO:root:Epoch:    1, train_loss: 76.3762\n",
      "INFO:root:Epoch:    2, train_loss: 10.2562\n",
      "INFO:root:Epoch:    3, train_loss: 2.2091\n",
      "INFO:root:Epoch:    4, train_loss: 2.0571\n",
      "INFO:root:Epoch:    5, train_loss: 2.0513\n",
      "INFO:root:Epoch:    6, train_loss: 2.0519\n",
      "INFO:root:Epoch:    7, train_loss: 2.0553\n",
      "INFO:root:Epoch:    8, train_loss: 2.0568\n",
      "INFO:root:Epoch:    9, train_loss: 2.0554\n"
     ]
    }
   ],
   "source": [
    "\n",
    "model = Model()\n",
    "init_rng = jax.random.PRNGKey(42)\n",
    "params = model.init(init_rng, x=jnp.ones((batch_size, 1)))['params']\n",
    "\n",
    "state = train_state.TrainState.create(\n",
    "    apply_fn=model.apply,\n",
    "    params=params,\n",
    "    tx=optax.adam(learning_rate=1e-3))\n",
    "\n",
    "for i in range(10):\n",
    "    state, train_loss = train_epoch(state, datagen)\n",
    "    logging.info(f\"Epoch: {i:4d}, train_loss: {train_loss:.4f}\")\n",
    "    "
   ]
  },
  {
   "cell_type": "code",
   "execution_count": null,
   "metadata": {},
   "outputs": [],
   "source": []
  }
 ],
 "metadata": {
  "kernelspec": {
   "display_name": "jax",
   "language": "python",
   "name": "python3"
  },
  "language_info": {
   "codemirror_mode": {
    "name": "ipython",
    "version": 3
   },
   "file_extension": ".py",
   "mimetype": "text/x-python",
   "name": "python",
   "nbconvert_exporter": "python",
   "pygments_lexer": "ipython3",
   "version": "3.11.4"
  },
  "orig_nbformat": 4
 },
 "nbformat": 4,
 "nbformat_minor": 2
}
