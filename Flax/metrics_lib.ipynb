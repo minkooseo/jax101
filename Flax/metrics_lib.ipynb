{
 "cells": [
  {
   "cell_type": "markdown",
   "metadata": {},
   "source": [
    "A couple of useful metrics and losses for multiclass classification. I wrote them for my imbalanced dataset."
   ]
  },
  {
   "cell_type": "code",
   "execution_count": 1,
   "metadata": {},
   "outputs": [],
   "source": [
    "import jax\n",
    "import jax.numpy as jnp\n",
    "\n",
    "# If micro precision is used for imbalanced data, the contributions from the majority\n",
    "# class will dominate. Macro avoids it.\n",
    "def macro_precision(y_true, y_pred):\n",
    "    threshold = 0.5\n",
    "    y_pred = jnp.where(y_pred > threshold, 1.0, 0.0)\n",
    "\n",
    "    precisions = []\n",
    "\n",
    "    # Get precision for each class and then average them.\n",
    "    for i in range(y_true.shape[1]):\n",
    "        class_true = y_true[:, i]\n",
    "        class_pred = y_pred[:, i]\n",
    "        true_positives = jnp.sum(class_true * class_pred)\n",
    "        predicted_positives = jnp.sum(class_pred)\n",
    "        precision = true_positives / (predicted_positives + jnp.finfo(float).eps)\n",
    "        precisions.append(precision)\n",
    "    return jnp.mean(jnp.stack(precisions))\n",
    "\n",
    "\n",
    "# When both alpha (class weights) and gamma (focusing parameter) are used,\n",
    "# it's the most effective. I use `compute_class_weight` from sklearn to compute\n",
    "# alpha.\n",
    "def categorical_focal_cross_entropy(logits, labels_one_hot, alpha, gamma=2.0):\n",
    "    probs = jax.nn.softmax(logits)\n",
    "    p_t = jnp.sum(probs * labels_one_hot, axis=-1)\n",
    "    alpha_t = alpha[jnp.argmax(labels_one_hot, axis=-1)]\n",
    "    loss = -alpha_t * jnp.power(1 - p_t, gamma) * jnp.log(p_t + 1e-10)\n",
    "    return jnp.mean(loss)\n"
   ]
  }
 ],
 "metadata": {
  "kernelspec": {
   "display_name": "jax",
   "language": "python",
   "name": "python3"
  },
  "language_info": {
   "codemirror_mode": {
    "name": "ipython",
    "version": 3
   },
   "file_extension": ".py",
   "mimetype": "text/x-python",
   "name": "python",
   "nbconvert_exporter": "python",
   "pygments_lexer": "ipython3",
   "version": "3.11.4"
  },
  "orig_nbformat": 4
 },
 "nbformat": 4,
 "nbformat_minor": 2
}
