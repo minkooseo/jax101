{
 "cells": [
  {
   "cell_type": "markdown",
   "metadata": {},
   "source": [
    "Jax transformations such as `jax.jit` and `jax.grad` require objects that are immutable and can be mapped over using the `jax.tree_util` methods. The `dataclass` decorator makes it easy to define custom classes that can be passed safely to Jax. \n",
    "\n",
    "See https://flax.readthedocs.io/en/latest/api_reference/flax.struct.html"
   ]
  },
  {
   "cell_type": "code",
   "execution_count": 33,
   "metadata": {},
   "outputs": [],
   "source": [
    "import jax\n",
    "import jax.numpy as jnp\n",
    "from types import FunctionType\n",
    "from flax import struct\n",
    "from clu import metrics\n",
    "from typing import Any\n",
    "\n",
    "@struct.dataclass\n",
    "class Model:\n",
    "    param: Any\n",
    "    param2: Any\n",
    "    apply_fn: FunctionType = struct.field(pytree_node=False)\n",
    "    "
   ]
  },
  {
   "cell_type": "code",
   "execution_count": 34,
   "metadata": {},
   "outputs": [],
   "source": [
    "m = Model({'a': jnp.array(1), \n",
    "           'b': jnp.array(2), \n",
    "           'c': jnp.array([3, 4, 5])},\n",
    "          jnp.array([1, 2, 3]),\n",
    "          lambda x: x + 1)"
   ]
  },
  {
   "cell_type": "markdown",
   "metadata": {},
   "source": [
    "dataclass is immutable"
   ]
  },
  {
   "cell_type": "code",
   "execution_count": 35,
   "metadata": {},
   "outputs": [],
   "source": [
    "# This is 'FrozenInstanceError'\n",
    "# m.param = 1"
   ]
  },
  {
   "cell_type": "code",
   "execution_count": 36,
   "metadata": {},
   "outputs": [
    {
     "name": "stdout",
     "output_type": "stream",
     "text": [
      "[1 2 3]\n",
      "[4 5 6]\n"
     ]
    }
   ],
   "source": [
    "print(m.param2)\n",
    "m = m.replace(param2=jnp.array([4, 5, 6]))\n",
    "print(m.param2)"
   ]
  },
  {
   "cell_type": "markdown",
   "metadata": {},
   "source": [
    "And it supports tree_util"
   ]
  },
  {
   "cell_type": "code",
   "execution_count": 37,
   "metadata": {},
   "outputs": [
    {
     "name": "stdout",
     "output_type": "stream",
     "text": [
      "[Array(1, dtype=int32, weak_type=True), Array(2, dtype=int32, weak_type=True), Array([3, 4, 5], dtype=int32), Array([4, 5, 6], dtype=int32)]\n",
      "Model(param={'a': (), 'b': (), 'c': (3,)}, param2=(3,), apply_fn=<function <lambda> at 0x12f9627a0>)\n"
     ]
    }
   ],
   "source": [
    "print(jax.tree_util.tree_leaves(m))\n",
    "print(jax.tree_util.tree_map(lambda x: x.shape, m))"
   ]
  },
  {
   "cell_type": "code",
   "execution_count": null,
   "metadata": {},
   "outputs": [],
   "source": []
  }
 ],
 "metadata": {
  "kernelspec": {
   "display_name": "jax",
   "language": "python",
   "name": "python3"
  },
  "language_info": {
   "codemirror_mode": {
    "name": "ipython",
    "version": 3
   },
   "file_extension": ".py",
   "mimetype": "text/x-python",
   "name": "python",
   "nbconvert_exporter": "python",
   "pygments_lexer": "ipython3",
   "version": "3.11.4"
  },
  "orig_nbformat": 4
 },
 "nbformat": 4,
 "nbformat_minor": 2
}
