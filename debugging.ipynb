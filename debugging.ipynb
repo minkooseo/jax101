{
 "cells": [
  {
   "cell_type": "code",
   "execution_count": 1,
   "metadata": {},
   "outputs": [],
   "source": [
    "import jax"
   ]
  },
  {
   "cell_type": "markdown",
   "metadata": {},
   "source": [
    "# Printing the exact line with error"
   ]
  },
  {
   "cell_type": "code",
   "execution_count": 2,
   "metadata": {},
   "outputs": [],
   "source": [
    "@jax.jit\n",
    "def foo(x):\n",
    "    return x / 0"
   ]
  },
  {
   "cell_type": "code",
   "execution_count": 3,
   "metadata": {},
   "outputs": [
    {
     "ename": "TypeError",
     "evalue": "Argument 'str' of type <class 'str'> is not a valid JAX type",
     "output_type": "error",
     "traceback": [
      "\u001b[0;31m---------------------------------------------------------------------------\u001b[0m",
      "\u001b[0;31mTypeError\u001b[0m                                 Traceback (most recent call last)",
      "Cell \u001b[0;32mIn[3], line 2\u001b[0m\n\u001b[1;32m      1\u001b[0m \u001b[39m# See that frames are hidden when jit\u001b[39;00m\n\u001b[0;32m----> 2\u001b[0m foo(\u001b[39m'\u001b[39;49m\u001b[39mstr\u001b[39;49m\u001b[39m'\u001b[39;49m)\n",
      "    \u001b[0;31m[... skipping hidden 6 frame]\u001b[0m\n",
      "File \u001b[0;32m~/miniconda3/envs/jax/lib/python3.11/site-packages/jax/_src/api_util.py:588\u001b[0m, in \u001b[0;36m_str_abstractify\u001b[0;34m(x)\u001b[0m\n\u001b[1;32m    587\u001b[0m \u001b[39mdef\u001b[39;00m \u001b[39m_str_abstractify\u001b[39m(x):\n\u001b[0;32m--> 588\u001b[0m   \u001b[39mraise\u001b[39;00m \u001b[39mTypeError\u001b[39;00m(\u001b[39mf\u001b[39m\u001b[39m\"\u001b[39m\u001b[39mArgument \u001b[39m\u001b[39m'\u001b[39m\u001b[39m{\u001b[39;00mx\u001b[39m}\u001b[39;00m\u001b[39m'\u001b[39m\u001b[39m of type \u001b[39m\u001b[39m{\u001b[39;00m\u001b[39mtype\u001b[39m(x)\u001b[39m}\u001b[39;00m\u001b[39m is not a valid JAX type\u001b[39m\u001b[39m\"\u001b[39m)\n",
      "\u001b[0;31mTypeError\u001b[0m: Argument 'str' of type <class 'str'> is not a valid JAX type"
     ]
    }
   ],
   "source": [
    "# See that frames are hidden when jit\n",
    "foo('str')"
   ]
  },
  {
   "cell_type": "code",
   "execution_count": 4,
   "metadata": {},
   "outputs": [
    {
     "ename": "TypeError",
     "evalue": "unsupported operand type(s) for /: 'str' and 'int'",
     "output_type": "error",
     "traceback": [
      "\u001b[0;31m---------------------------------------------------------------------------\u001b[0m",
      "\u001b[0;31mTypeError\u001b[0m                                 Traceback (most recent call last)",
      "Cell \u001b[0;32mIn[4], line 3\u001b[0m\n\u001b[1;32m      1\u001b[0m \u001b[39m# See that exact line is pointed out\u001b[39;00m\n\u001b[1;32m      2\u001b[0m \u001b[39mwith\u001b[39;00m jax\u001b[39m.\u001b[39mdisable_jit():\n\u001b[0;32m----> 3\u001b[0m     foo(\u001b[39m'\u001b[39;49m\u001b[39mstr\u001b[39;49m\u001b[39m'\u001b[39;49m)\n",
      "Cell \u001b[0;32mIn[2], line 3\u001b[0m, in \u001b[0;36mfoo\u001b[0;34m(x)\u001b[0m\n\u001b[1;32m      1\u001b[0m \u001b[39m@jax\u001b[39m\u001b[39m.\u001b[39mjit\n\u001b[1;32m      2\u001b[0m \u001b[39mdef\u001b[39;00m \u001b[39mfoo\u001b[39m(x):\n\u001b[0;32m----> 3\u001b[0m     \u001b[39mreturn\u001b[39;00m x \u001b[39m/\u001b[39;49m \u001b[39m0\u001b[39;49m\n",
      "\u001b[0;31mTypeError\u001b[0m: unsupported operand type(s) for /: 'str' and 'int'"
     ]
    }
   ],
   "source": [
    "# See that exact line is pointed out\n",
    "with jax.disable_jit():\n",
    "    foo('str')"
   ]
  },
  {
   "cell_type": "markdown",
   "metadata": {},
   "source": [
    "# Showing Flax in the trace"
   ]
  },
  {
   "cell_type": "code",
   "execution_count": 5,
   "metadata": {},
   "outputs": [],
   "source": [
    "# Trace in flax is hidden by default\n",
    "import flax\n",
    "import flax.linen as nn\n",
    "\n",
    "d = nn.Dense(3)"
   ]
  },
  {
   "cell_type": "code",
   "execution_count": 6,
   "metadata": {},
   "outputs": [
    {
     "ename": "TypeError",
     "evalue": "argument of type 'int' is not iterable",
     "output_type": "error",
     "traceback": [
      "\u001b[0;31m---------------------------------------------------------------------------\u001b[0m",
      "\u001b[0;31mTypeError\u001b[0m                                 Traceback (most recent call last)",
      "Cell \u001b[0;32mIn[6], line 2\u001b[0m\n\u001b[1;32m      1\u001b[0m \u001b[39m# This error isn't very helpful. No idea how the wrapper is involved.\u001b[39;00m\n\u001b[0;32m----> 2\u001b[0m d\u001b[39m.\u001b[39;49mapply(\u001b[39m7\u001b[39;49m)\n",
      "    \u001b[0;31m[... skipping hidden 2 frame]\u001b[0m\n",
      "File \u001b[0;32m~/miniconda3/envs/jax/lib/python3.11/site-packages/flax/core/scope.py:989\u001b[0m, in \u001b[0;36mapply.<locals>.wrapper\u001b[0;34m(variables, rngs, *args, **kwargs)\u001b[0m\n\u001b[1;32m    980\u001b[0m \u001b[39m@functools\u001b[39m\u001b[39m.\u001b[39mwraps(fn)\n\u001b[1;32m    981\u001b[0m \u001b[39mdef\u001b[39;00m \u001b[39mwrapper\u001b[39m(\n\u001b[1;32m    982\u001b[0m     variables: VariableDict,\n\u001b[0;32m   (...)\u001b[0m\n\u001b[1;32m    986\u001b[0m ) \u001b[39m-\u001b[39m\u001b[39m>\u001b[39m Union[Any, Tuple[Any, Union[VariableDict, Dict[\u001b[39mstr\u001b[39m, Any]]]]:\n\u001b[1;32m    987\u001b[0m   \u001b[39m# Try to detect if user accidentally passed {'params': {'params': ...}.\u001b[39;00m\n\u001b[1;32m    988\u001b[0m   \u001b[39mif\u001b[39;00m (\n\u001b[0;32m--> 989\u001b[0m       \u001b[39m'\u001b[39;49m\u001b[39mparams\u001b[39;49m\u001b[39m'\u001b[39;49m \u001b[39min\u001b[39;49;00m variables\n\u001b[1;32m    990\u001b[0m       \u001b[39mand\u001b[39;00m \u001b[39misinstance\u001b[39m(variables[\u001b[39m'\u001b[39m\u001b[39mparams\u001b[39m\u001b[39m'\u001b[39m], (\u001b[39mdict\u001b[39m, FrozenDict))\n\u001b[1;32m    991\u001b[0m       \u001b[39mand\u001b[39;00m \u001b[39m'\u001b[39m\u001b[39mparams\u001b[39m\u001b[39m'\u001b[39m \u001b[39min\u001b[39;00m variables[\u001b[39m'\u001b[39m\u001b[39mparams\u001b[39m\u001b[39m'\u001b[39m]\n\u001b[1;32m    992\u001b[0m   ):\n\u001b[1;32m    993\u001b[0m     \u001b[39mraise\u001b[39;00m errors\u001b[39m.\u001b[39mApplyScopeInvalidVariablesStructureError(variables)\n\u001b[1;32m    995\u001b[0m   \u001b[39mwith\u001b[39;00m bind(\n\u001b[1;32m    996\u001b[0m       variables, rngs\u001b[39m=\u001b[39mrngs, mutable\u001b[39m=\u001b[39mmutable, flags\u001b[39m=\u001b[39mflags\n\u001b[1;32m    997\u001b[0m   )\u001b[39m.\u001b[39mtemporary() \u001b[39mas\u001b[39;00m root:\n",
      "\u001b[0;31mTypeError\u001b[0m: argument of type 'int' is not iterable"
     ]
    }
   ],
   "source": [
    "# This error isn't very helpful. No idea how the wrapper is involved.\n",
    "d.apply(7)"
   ]
  },
  {
   "cell_type": "code",
   "execution_count": 7,
   "metadata": {},
   "outputs": [
    {
     "ename": "TypeError",
     "evalue": "argument of type 'int' is not iterable",
     "output_type": "error",
     "traceback": [
      "\u001b[0;31m---------------------------------------------------------------------------\u001b[0m",
      "\u001b[0;31mTypeError\u001b[0m                                 Traceback (most recent call last)",
      "Cell \u001b[0;32mIn[7], line 3\u001b[0m\n\u001b[1;32m      1\u001b[0m \u001b[39m# Now, see that apply() in module.py is pointed out\u001b[39;00m\n\u001b[1;32m      2\u001b[0m flax\u001b[39m.\u001b[39mtraceback_util\u001b[39m.\u001b[39mshow_flax_in_tracebacks()\n\u001b[0;32m----> 3\u001b[0m d\u001b[39m.\u001b[39;49mapply(\u001b[39m7\u001b[39;49m)\n",
      "    \u001b[0;31m[... skipping hidden 1 frame]\u001b[0m\n",
      "File \u001b[0;32m~/miniconda3/envs/jax/lib/python3.11/site-packages/flax/linen/module.py:1682\u001b[0m, in \u001b[0;36mModule.apply\u001b[0;34m(self, variables, rngs, method, mutable, capture_intermediates, *args, **kwargs)\u001b[0m\n\u001b[1;32m   1680\u001b[0m   method \u001b[39m=\u001b[39m \u001b[39mself\u001b[39m\u001b[39m.\u001b[39m\u001b[39m__call__\u001b[39m\n\u001b[1;32m   1681\u001b[0m method \u001b[39m=\u001b[39m _get_unbound_fn(method)\n\u001b[0;32m-> 1682\u001b[0m \u001b[39mreturn\u001b[39;00m apply(\n\u001b[1;32m   1683\u001b[0m     method,\n\u001b[1;32m   1684\u001b[0m     \u001b[39mself\u001b[39;49m,\n\u001b[1;32m   1685\u001b[0m     mutable\u001b[39m=\u001b[39;49mmutable,\n\u001b[1;32m   1686\u001b[0m     capture_intermediates\u001b[39m=\u001b[39;49mcapture_intermediates,\n\u001b[1;32m   1687\u001b[0m )(variables, \u001b[39m*\u001b[39;49margs, \u001b[39m*\u001b[39;49m\u001b[39m*\u001b[39;49mkwargs, rngs\u001b[39m=\u001b[39;49mrngs)\n",
      "File \u001b[0;32m~/miniconda3/envs/jax/lib/python3.11/site-packages/flax/core/scope.py:989\u001b[0m, in \u001b[0;36mapply.<locals>.wrapper\u001b[0;34m(variables, rngs, *args, **kwargs)\u001b[0m\n\u001b[1;32m    980\u001b[0m \u001b[39m@functools\u001b[39m\u001b[39m.\u001b[39mwraps(fn)\n\u001b[1;32m    981\u001b[0m \u001b[39mdef\u001b[39;00m \u001b[39mwrapper\u001b[39m(\n\u001b[1;32m    982\u001b[0m     variables: VariableDict,\n\u001b[0;32m   (...)\u001b[0m\n\u001b[1;32m    986\u001b[0m ) \u001b[39m-\u001b[39m\u001b[39m>\u001b[39m Union[Any, Tuple[Any, Union[VariableDict, Dict[\u001b[39mstr\u001b[39m, Any]]]]:\n\u001b[1;32m    987\u001b[0m   \u001b[39m# Try to detect if user accidentally passed {'params': {'params': ...}.\u001b[39;00m\n\u001b[1;32m    988\u001b[0m   \u001b[39mif\u001b[39;00m (\n\u001b[0;32m--> 989\u001b[0m       \u001b[39m'\u001b[39;49m\u001b[39mparams\u001b[39;49m\u001b[39m'\u001b[39;49m \u001b[39min\u001b[39;49;00m variables\n\u001b[1;32m    990\u001b[0m       \u001b[39mand\u001b[39;00m \u001b[39misinstance\u001b[39m(variables[\u001b[39m'\u001b[39m\u001b[39mparams\u001b[39m\u001b[39m'\u001b[39m], (\u001b[39mdict\u001b[39m, FrozenDict))\n\u001b[1;32m    991\u001b[0m       \u001b[39mand\u001b[39;00m \u001b[39m'\u001b[39m\u001b[39mparams\u001b[39m\u001b[39m'\u001b[39m \u001b[39min\u001b[39;00m variables[\u001b[39m'\u001b[39m\u001b[39mparams\u001b[39m\u001b[39m'\u001b[39m]\n\u001b[1;32m    992\u001b[0m   ):\n\u001b[1;32m    993\u001b[0m     \u001b[39mraise\u001b[39;00m errors\u001b[39m.\u001b[39mApplyScopeInvalidVariablesStructureError(variables)\n\u001b[1;32m    995\u001b[0m   \u001b[39mwith\u001b[39;00m bind(\n\u001b[1;32m    996\u001b[0m       variables, rngs\u001b[39m=\u001b[39mrngs, mutable\u001b[39m=\u001b[39mmutable, flags\u001b[39m=\u001b[39mflags\n\u001b[1;32m    997\u001b[0m   )\u001b[39m.\u001b[39mtemporary() \u001b[39mas\u001b[39;00m root:\n",
      "\u001b[0;31mTypeError\u001b[0m: argument of type 'int' is not iterable"
     ]
    }
   ],
   "source": [
    "# Now, see that apply() in module.py is pointed out\n",
    "flax.traceback_util.show_flax_in_tracebacks()\n",
    "d.apply(7)"
   ]
  },
  {
   "cell_type": "code",
   "execution_count": null,
   "metadata": {},
   "outputs": [],
   "source": []
  }
 ],
 "metadata": {
  "kernelspec": {
   "display_name": "jax",
   "language": "python",
   "name": "python3"
  },
  "language_info": {
   "codemirror_mode": {
    "name": "ipython",
    "version": 3
   },
   "file_extension": ".py",
   "mimetype": "text/x-python",
   "name": "python",
   "nbconvert_exporter": "python",
   "pygments_lexer": "ipython3",
   "version": "3.11.4"
  },
  "orig_nbformat": 4
 },
 "nbformat": 4,
 "nbformat_minor": 2
}
